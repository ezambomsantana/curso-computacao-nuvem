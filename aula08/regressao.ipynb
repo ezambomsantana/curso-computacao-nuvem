{
 "cells": [
  {
   "cell_type": "code",
   "execution_count": 42,
   "id": "2c41ee09",
   "metadata": {},
   "outputs": [],
   "source": [
    "from pyspark import SparkContext\n",
    "import pandas as pd\n",
    "\n",
    "\n",
    "sc = SparkContext(\"local\", \"sec1ond app\")"
   ]
  },
  {
   "cell_type": "code",
   "execution_count": 86,
   "id": "da1f9c95",
   "metadata": {},
   "outputs": [
    {
     "data": {
      "text/html": [
       "<div>\n",
       "<style scoped>\n",
       "    .dataframe tbody tr th:only-of-type {\n",
       "        vertical-align: middle;\n",
       "    }\n",
       "\n",
       "    .dataframe tbody tr th {\n",
       "        vertical-align: top;\n",
       "    }\n",
       "\n",
       "    .dataframe thead th {\n",
       "        text-align: right;\n",
       "    }\n",
       "</style>\n",
       "<table border=\"1\" class=\"dataframe\">\n",
       "  <thead>\n",
       "    <tr style=\"text-align: right;\">\n",
       "      <th></th>\n",
       "      <th>Month/Year</th>\n",
       "      <th>License Class</th>\n",
       "      <th>Trips Per Day</th>\n",
       "      <th>Farebox Per Day</th>\n",
       "      <th>Unique Drivers</th>\n",
       "      <th>Unique Vehicles</th>\n",
       "      <th>Vehicles Per Day</th>\n",
       "      <th>Avg Days Vehicles on Road</th>\n",
       "      <th>Avg Hours Per Day Per Vehicle</th>\n",
       "      <th>Avg Days Drivers on Road</th>\n",
       "      <th>Avg Hours Per Day Per Driver</th>\n",
       "      <th>Avg Minutes Per Trip</th>\n",
       "      <th>Percent of Trips Paid with Credit Card</th>\n",
       "      <th>Trips Per Day Shared</th>\n",
       "    </tr>\n",
       "  </thead>\n",
       "  <tbody>\n",
       "    <tr>\n",
       "      <th>0</th>\n",
       "      <td>2021-06</td>\n",
       "      <td>Yellow</td>\n",
       "      <td>94,130</td>\n",
       "      <td>1,607,814</td>\n",
       "      <td>7,084</td>\n",
       "      <td>5,636</td>\n",
       "      <td>4,570</td>\n",
       "      <td>24.3</td>\n",
       "      <td>9.1</td>\n",
       "      <td>20.8</td>\n",
       "      <td>8.4</td>\n",
       "      <td>14.1</td>\n",
       "      <td>78%</td>\n",
       "      <td>-</td>\n",
       "    </tr>\n",
       "    <tr>\n",
       "      <th>1</th>\n",
       "      <td>2021-06</td>\n",
       "      <td>Green</td>\n",
       "      <td>2,891</td>\n",
       "      <td>65,833</td>\n",
       "      <td>1,002</td>\n",
       "      <td>976</td>\n",
       "      <td>531</td>\n",
       "      <td>16.3</td>\n",
       "      <td>4.2</td>\n",
       "      <td>16.1</td>\n",
       "      <td>4.2</td>\n",
       "      <td>20.5</td>\n",
       "      <td>75%</td>\n",
       "      <td>-</td>\n",
       "    </tr>\n",
       "    <tr>\n",
       "      <th>2</th>\n",
       "      <td>2021-06</td>\n",
       "      <td>FHV - High Volume</td>\n",
       "      <td>498,641</td>\n",
       "      <td>-</td>\n",
       "      <td>58,797</td>\n",
       "      <td>57,856</td>\n",
       "      <td>36,922</td>\n",
       "      <td>19.1</td>\n",
       "      <td>6.9</td>\n",
       "      <td>19.0</td>\n",
       "      <td>6.9</td>\n",
       "      <td>19</td>\n",
       "      <td>-</td>\n",
       "      <td>124</td>\n",
       "    </tr>\n",
       "    <tr>\n",
       "      <th>3</th>\n",
       "      <td>2021-05</td>\n",
       "      <td>FHV - Black Car</td>\n",
       "      <td>13,022</td>\n",
       "      <td>-</td>\n",
       "      <td>4,294</td>\n",
       "      <td>4,278</td>\n",
       "      <td>2,070</td>\n",
       "      <td>15.0</td>\n",
       "      <td>4.6</td>\n",
       "      <td>15.0</td>\n",
       "      <td>4.6</td>\n",
       "      <td>24</td>\n",
       "      <td>-</td>\n",
       "      <td>-</td>\n",
       "    </tr>\n",
       "    <tr>\n",
       "      <th>4</th>\n",
       "      <td>2021-05</td>\n",
       "      <td>FHV - Livery</td>\n",
       "      <td>27,753</td>\n",
       "      <td>-</td>\n",
       "      <td>5,296</td>\n",
       "      <td>5,202</td>\n",
       "      <td>3,328</td>\n",
       "      <td>19.8</td>\n",
       "      <td>5.2</td>\n",
       "      <td>19.8</td>\n",
       "      <td>5.2</td>\n",
       "      <td>18</td>\n",
       "      <td>-</td>\n",
       "      <td>-</td>\n",
       "    </tr>\n",
       "    <tr>\n",
       "      <th>...</th>\n",
       "      <td>...</td>\n",
       "      <td>...</td>\n",
       "      <td>...</td>\n",
       "      <td>...</td>\n",
       "      <td>...</td>\n",
       "      <td>...</td>\n",
       "      <td>...</td>\n",
       "      <td>...</td>\n",
       "      <td>...</td>\n",
       "      <td>...</td>\n",
       "      <td>...</td>\n",
       "      <td>...</td>\n",
       "      <td>...</td>\n",
       "      <td>...</td>\n",
       "    </tr>\n",
       "    <tr>\n",
       "      <th>537</th>\n",
       "      <td>2010-05</td>\n",
       "      <td>Yellow</td>\n",
       "      <td>499,374</td>\n",
       "      <td>5,561,218</td>\n",
       "      <td>30,950</td>\n",
       "      <td>13,309</td>\n",
       "      <td>12,729</td>\n",
       "      <td>29.6</td>\n",
       "      <td>14.8</td>\n",
       "      <td>22.7</td>\n",
       "      <td>8.3</td>\n",
       "      <td>-</td>\n",
       "      <td>35%</td>\n",
       "      <td>-</td>\n",
       "    </tr>\n",
       "    <tr>\n",
       "      <th>538</th>\n",
       "      <td>2010-04</td>\n",
       "      <td>Yellow</td>\n",
       "      <td>504,798</td>\n",
       "      <td>5,502,545</td>\n",
       "      <td>30,827</td>\n",
       "      <td>13,326</td>\n",
       "      <td>12,856</td>\n",
       "      <td>28.9</td>\n",
       "      <td>14.8</td>\n",
       "      <td>22.3</td>\n",
       "      <td>8.3</td>\n",
       "      <td>-</td>\n",
       "      <td>35%</td>\n",
       "      <td>-</td>\n",
       "    </tr>\n",
       "    <tr>\n",
       "      <th>539</th>\n",
       "      <td>2010-03</td>\n",
       "      <td>Yellow</td>\n",
       "      <td>415,567</td>\n",
       "      <td>3,011,750</td>\n",
       "      <td>28,709</td>\n",
       "      <td>12,183</td>\n",
       "      <td>10,382</td>\n",
       "      <td>26.4</td>\n",
       "      <td>15.1</td>\n",
       "      <td>20.4</td>\n",
       "      <td>8.3</td>\n",
       "      <td>11.5</td>\n",
       "      <td>35%</td>\n",
       "      <td>-</td>\n",
       "    </tr>\n",
       "    <tr>\n",
       "      <th>540</th>\n",
       "      <td>2010-02</td>\n",
       "      <td>Yellow</td>\n",
       "      <td>397,969</td>\n",
       "      <td>3,392,416</td>\n",
       "      <td>28,255</td>\n",
       "      <td>12,171</td>\n",
       "      <td>10,045</td>\n",
       "      <td>23.1</td>\n",
       "      <td>14.6</td>\n",
       "      <td>17.6</td>\n",
       "      <td>8.3</td>\n",
       "      <td>11.1</td>\n",
       "      <td>35%</td>\n",
       "      <td>-</td>\n",
       "    </tr>\n",
       "    <tr>\n",
       "      <th>541</th>\n",
       "      <td>2010-01</td>\n",
       "      <td>Yellow</td>\n",
       "      <td>479,376</td>\n",
       "      <td>4,968,817</td>\n",
       "      <td>30,659</td>\n",
       "      <td>13,305</td>\n",
       "      <td>12,727</td>\n",
       "      <td>29.7</td>\n",
       "      <td>14.3</td>\n",
       "      <td>22.5</td>\n",
       "      <td>8.2</td>\n",
       "      <td>-</td>\n",
       "      <td>32%</td>\n",
       "      <td>-</td>\n",
       "    </tr>\n",
       "  </tbody>\n",
       "</table>\n",
       "<p>542 rows × 14 columns</p>\n",
       "</div>"
      ],
      "text/plain": [
       "    Month/Year      License Class Trips Per Day Farebox Per Day  \\\n",
       "0      2021-06             Yellow       94,130       1,607,814    \n",
       "1      2021-06              Green        2,891          65,833    \n",
       "2      2021-06  FHV - High Volume      498,641                -   \n",
       "3      2021-05    FHV - Black Car       13,022                -   \n",
       "4      2021-05       FHV - Livery       27,753                -   \n",
       "..         ...                ...           ...             ...   \n",
       "537    2010-05             Yellow       499,374       5,561,218   \n",
       "538    2010-04             Yellow       504,798       5,502,545   \n",
       "539    2010-03             Yellow       415,567       3,011,750   \n",
       "540    2010-02             Yellow       397,969       3,392,416   \n",
       "541    2010-01             Yellow       479,376       4,968,817   \n",
       "\n",
       "    Unique Drivers Unique Vehicles Vehicles Per Day  \\\n",
       "0           7,084           5,636            4,570    \n",
       "1           1,002             976              531    \n",
       "2          58,797          57,856           36,922    \n",
       "3           4,294           4,278            2,070    \n",
       "4           5,296           5,202            3,328    \n",
       "..             ...             ...              ...   \n",
       "537         30,950          13,309           12,729   \n",
       "538         30,827          13,326           12,856   \n",
       "539         28,709          12,183           10,382   \n",
       "540         28,255          12,171           10,045   \n",
       "541         30,659          13,305           12,727   \n",
       "\n",
       "     Avg Days Vehicles on Road  Avg Hours Per Day Per Vehicle  \\\n",
       "0                         24.3                            9.1   \n",
       "1                         16.3                            4.2   \n",
       "2                         19.1                            6.9   \n",
       "3                         15.0                            4.6   \n",
       "4                         19.8                            5.2   \n",
       "..                         ...                            ...   \n",
       "537                       29.6                           14.8   \n",
       "538                       28.9                           14.8   \n",
       "539                       26.4                           15.1   \n",
       "540                       23.1                           14.6   \n",
       "541                       29.7                           14.3   \n",
       "\n",
       "     Avg Days Drivers on Road  Avg Hours Per Day Per Driver  \\\n",
       "0                        20.8                           8.4   \n",
       "1                        16.1                           4.2   \n",
       "2                        19.0                           6.9   \n",
       "3                        15.0                           4.6   \n",
       "4                        19.8                           5.2   \n",
       "..                        ...                           ...   \n",
       "537                      22.7                           8.3   \n",
       "538                      22.3                           8.3   \n",
       "539                      20.4                           8.3   \n",
       "540                      17.6                           8.3   \n",
       "541                      22.5                           8.2   \n",
       "\n",
       "    Avg Minutes Per Trip Percent of Trips Paid with Credit Card  \\\n",
       "0                   14.1                                    78%   \n",
       "1                   20.5                                    75%   \n",
       "2                     19                                      -   \n",
       "3                     24                                      -   \n",
       "4                     18                                      -   \n",
       "..                   ...                                    ...   \n",
       "537                    -                                    35%   \n",
       "538                    -                                    35%   \n",
       "539                 11.5                                    35%   \n",
       "540                 11.1                                    35%   \n",
       "541                    -                                    32%   \n",
       "\n",
       "    Trips Per Day Shared  \n",
       "0                      -  \n",
       "1                      -  \n",
       "2                    124  \n",
       "3                      -  \n",
       "4                      -  \n",
       "..                   ...  \n",
       "537                    -  \n",
       "538                    -  \n",
       "539                    -  \n",
       "540                    -  \n",
       "541                    -  \n",
       "\n",
       "[542 rows x 14 columns]"
      ]
     },
     "execution_count": 86,
     "metadata": {},
     "output_type": "execute_result"
    }
   ],
   "source": [
    "data = pd.read_csv('data_reports_monthly.csv')\n",
    "data"
   ]
  },
  {
   "cell_type": "code",
   "execution_count": 108,
   "id": "d45c735d",
   "metadata": {},
   "outputs": [],
   "source": [
    "schemaString = \"date class trips farebox drives vehicles vehicles_day avg_vehicles_road avg_hour_vehicle avg_day_driver avg_hour_driver avg_minute_trip percent_card trip_shared\"\n",
    "\n",
    "from pyspark.sql.types import StructField,StringType,StructType\n",
    "\n",
    "fields = [StructField(field_name, StringType(), True) for field_name in schemaString.split()]\n",
    "schema = StructType(fields)"
   ]
  },
  {
   "cell_type": "code",
   "execution_count": 109,
   "id": "3256c2ea",
   "metadata": {},
   "outputs": [],
   "source": [
    "from pyspark.sql import SQLContext\n",
    "sqlContext = SQLContext(sc)\n"
   ]
  },
  {
   "cell_type": "code",
   "execution_count": 110,
   "id": "bb97f78c",
   "metadata": {},
   "outputs": [
    {
     "name": "stdout",
     "output_type": "stream",
     "text": [
      "root\n",
      " |-- date: string (nullable = true)\n",
      " |-- class: string (nullable = true)\n",
      " |-- trips: string (nullable = true)\n",
      " |-- farebox: string (nullable = true)\n",
      " |-- drives: string (nullable = true)\n",
      " |-- vehicles: string (nullable = true)\n",
      " |-- vehicles_day: string (nullable = true)\n",
      " |-- avg_vehicles_road: string (nullable = true)\n",
      " |-- avg_hour_vehicle: string (nullable = true)\n",
      " |-- avg_day_driver: string (nullable = true)\n",
      " |-- avg_hour_driver: string (nullable = true)\n",
      " |-- avg_minute_trip: string (nullable = true)\n",
      " |-- percent_card: string (nullable = true)\n",
      " |-- trip_shared: string (nullable = true)\n",
      "\n",
      "+-------+-----------------+---------+-----------+--------+--------+------------+-----------------+----------------+--------------+---------------+---------------+------------+-----------+\n",
      "|   date|            class|    trips|    farebox|  drives|vehicles|vehicles_day|avg_vehicles_road|avg_hour_vehicle|avg_day_driver|avg_hour_driver|avg_minute_trip|percent_card|trip_shared|\n",
      "+-------+-----------------+---------+-----------+--------+--------+------------+-----------------+----------------+--------------+---------------+---------------+------------+-----------+\n",
      "|2021-06|           Yellow|  94,130 | 1,607,814 |  7,084 |  5,636 |      4,570 |             24.3|             9.1|          20.8|            8.4|           14.1|         78%|          -|\n",
      "|2021-06|            Green|   2,891 |    65,833 |  1,002 |    976 |        531 |             16.3|             4.2|          16.1|            4.2|           20.5|         75%|          -|\n",
      "|2021-06|FHV - High Volume| 498,641 |          -| 58,797 | 57,856 |     36,922 |             19.1|             6.9|          19.0|            6.9|             19|           -|        124|\n",
      "|2021-05|  FHV - Black Car|  13,022 |          -|  4,294 |  4,278 |      2,070 |             15.0|             4.6|          15.0|            4.6|             24|           -|          -|\n",
      "|2021-05|     FHV - Livery|  27,753 |          -|  5,296 |  5,202 |      3,328 |             19.8|             5.2|          19.8|            5.2|             18|           -|          -|\n",
      "|2021-05|   FHV - Lux Limo|     727 |          -|    956 |    900 |        339 |             11.7|             2.1|          11.2|            2.1|             66|           -|          -|\n",
      "|2021-05|FHV - High Volume|  474,753|          -|  56,869|  56,102|      34,401|             19.0|             6.9|          18.9|            6.9|             18|           -|          -|\n",
      "|2021-05|            Green|    2,843|     65,575|     979|     951|         517|             16.9|             4.3|          16.5|            4.2|             20|         78%|          -|\n",
      "|2021-05|           Yellow|   80,499|  1,340,447|   6,579|   5,228|       4,105|             24.3|             8.7|          20.6|            8.2|           13.4|         78%|          -|\n",
      "|2021-04|  FHV - Black Car|   12,658|          -|   4,229|   4,224|       2,098|             14.9|             4.5|          15.0|            4.5|             24|           -|          -|\n",
      "|2021-04|     FHV - Livery|   26,758|          -|   5,122|   5,010|       3,222|             19.3|             5.3|          19.2|            5.2|             18|           -|          -|\n",
      "|2021-04|   FHV - Lux Limo|      708|          -|     915|     872|         342|             11.8|             2.0|          11.5|            2.0|             59|           -|          -|\n",
      "|2021-04|FHV - High Volume|  470,299|          -|  54,481|  53,741|      33,356|             18.6|             7.0|          18.5|            6.9|             17|           -|          -|\n",
      "|2021-04|            Green|    2,896|     67,873|     953|     927|         515|             16.7|             4.4|          16.4|            4.3|           20.1|         78%|          -|\n",
      "|2021-04|           Yellow|   71,982|  1,182,789|   6,103|   4,924|       3,889|             23.7|             8.6|          20.2|            8.1|             13|         77%|          -|\n",
      "|2021-03|  FHV - Black Car|   13,000|          -|   4,003|   3,995|       2,049|             15.9|             4.6|          16.0|            4.6|             23|           -|          -|\n",
      "|2021-03|     FHV - Livery|   28,654|          -|   5,295|   5,195|       3,381|             20.2|             5.4|          20.1|            5.3|             17|           -|          -|\n",
      "|2021-03|   FHV - Lux Limo|      629|          -|     812|     791|         302|             11.9|             2.0|          11.8|            2.0|             56|           -|          -|\n",
      "|2021-03|FHV - High Volume|  458,777|          -|  52,117|  51,751|      31,630|             18.9|             7.1|          19.0|            7.0|             17|           -|          -|\n",
      "|2021-03|            Green|    2,703|     62,408|     951|     931|         482|             16.1|             4.4|          15.9|            4.4|           18.9|         79%|          -|\n",
      "+-------+-----------------+---------+-----------+--------+--------+------------+-----------------+----------------+--------------+---------------+---------------+------------+-----------+\n",
      "only showing top 20 rows\n",
      "\n"
     ]
    }
   ],
   "source": [
    "sparkDF = sqlContext.createDataFrame(data, schema)\n",
    "sparkDF.printSchema()\n",
    "sparkDF.show()"
   ]
  },
  {
   "cell_type": "code",
   "execution_count": 115,
   "id": "f5535bbd",
   "metadata": {},
   "outputs": [
    {
     "name": "stdout",
     "output_type": "stream",
     "text": [
      "+-------+-----------------+------+-----------+--------+--------+------------+-----------------+----------------+--------------+---------------+---------------+------------+-----------+\n",
      "|   date|            class| trips|    farebox|  drives|vehicles|vehicles_day|avg_vehicles_road|avg_hour_vehicle|avg_day_driver|avg_hour_driver|avg_minute_trip|percent_card|trip_shared|\n",
      "+-------+-----------------+------+-----------+--------+--------+------------+-----------------+----------------+--------------+---------------+---------------+------------+-----------+\n",
      "|2021-06|           Yellow| 94130| 1,607,814 |  7,084 |  5,636 |      4,570 |             24.3|             9.1|          20.8|            8.4|           14.1|         78%|          -|\n",
      "|2021-06|            Green|  2891|    65,833 |  1,002 |    976 |        531 |             16.3|             4.2|          16.1|            4.2|           20.5|         75%|          -|\n",
      "|2021-06|FHV - High Volume|498641|          -| 58,797 | 57,856 |     36,922 |             19.1|             6.9|          19.0|            6.9|             19|           -|        124|\n",
      "|2021-05|  FHV - Black Car| 13022|          -|  4,294 |  4,278 |      2,070 |             15.0|             4.6|          15.0|            4.6|             24|           -|          -|\n",
      "|2021-05|     FHV - Livery| 27753|          -|  5,296 |  5,202 |      3,328 |             19.8|             5.2|          19.8|            5.2|             18|           -|          -|\n",
      "|2021-05|   FHV - Lux Limo|   727|          -|    956 |    900 |        339 |             11.7|             2.1|          11.2|            2.1|             66|           -|          -|\n",
      "|2021-05|FHV - High Volume|474753|          -|  56,869|  56,102|      34,401|             19.0|             6.9|          18.9|            6.9|             18|           -|          -|\n",
      "|2021-05|            Green|  2843|     65,575|     979|     951|         517|             16.9|             4.3|          16.5|            4.2|             20|         78%|          -|\n",
      "|2021-05|           Yellow| 80499|  1,340,447|   6,579|   5,228|       4,105|             24.3|             8.7|          20.6|            8.2|           13.4|         78%|          -|\n",
      "|2021-04|  FHV - Black Car| 12658|          -|   4,229|   4,224|       2,098|             14.9|             4.5|          15.0|            4.5|             24|           -|          -|\n",
      "|2021-04|     FHV - Livery| 26758|          -|   5,122|   5,010|       3,222|             19.3|             5.3|          19.2|            5.2|             18|           -|          -|\n",
      "|2021-04|   FHV - Lux Limo|   708|          -|     915|     872|         342|             11.8|             2.0|          11.5|            2.0|             59|           -|          -|\n",
      "|2021-04|FHV - High Volume|470299|          -|  54,481|  53,741|      33,356|             18.6|             7.0|          18.5|            6.9|             17|           -|          -|\n",
      "|2021-04|            Green|  2896|     67,873|     953|     927|         515|             16.7|             4.4|          16.4|            4.3|           20.1|         78%|          -|\n",
      "|2021-04|           Yellow| 71982|  1,182,789|   6,103|   4,924|       3,889|             23.7|             8.6|          20.2|            8.1|             13|         77%|          -|\n",
      "|2021-03|  FHV - Black Car| 13000|          -|   4,003|   3,995|       2,049|             15.9|             4.6|          16.0|            4.6|             23|           -|          -|\n",
      "|2021-03|     FHV - Livery| 28654|          -|   5,295|   5,195|       3,381|             20.2|             5.4|          20.1|            5.3|             17|           -|          -|\n",
      "|2021-03|   FHV - Lux Limo|   629|          -|     812|     791|         302|             11.9|             2.0|          11.8|            2.0|             56|           -|          -|\n",
      "|2021-03|FHV - High Volume|458777|          -|  52,117|  51,751|      31,630|             18.9|             7.1|          19.0|            7.0|             17|           -|          -|\n",
      "|2021-03|            Green|  2703|     62,408|     951|     931|         482|             16.1|             4.4|          15.9|            4.4|           18.9|         79%|          -|\n",
      "+-------+-----------------+------+-----------+--------+--------+------------+-----------------+----------------+--------------+---------------+---------------+------------+-----------+\n",
      "only showing top 20 rows\n",
      "\n",
      "root\n",
      " |-- date: string (nullable = true)\n",
      " |-- class: string (nullable = true)\n",
      " |-- trips: integer (nullable = true)\n",
      " |-- farebox: string (nullable = true)\n",
      " |-- drives: string (nullable = true)\n",
      " |-- vehicles: string (nullable = true)\n",
      " |-- vehicles_day: string (nullable = true)\n",
      " |-- avg_vehicles_road: string (nullable = true)\n",
      " |-- avg_hour_vehicle: string (nullable = true)\n",
      " |-- avg_day_driver: string (nullable = true)\n",
      " |-- avg_hour_driver: string (nullable = true)\n",
      " |-- avg_minute_trip: string (nullable = true)\n",
      " |-- percent_card: string (nullable = true)\n",
      " |-- trip_shared: string (nullable = true)\n",
      "\n"
     ]
    }
   ],
   "source": [
    "sparkDF = sparkDF.withColumn('trips', regexp_replace('trips', ',', ''))\n",
    "sparkDF = sparkDF.withColumn(\"trips\", sparkDF[\"trips\"].cast(IntegerType()))\n",
    "\n",
    "sparkDF.show()\n",
    "sparkDF.printSchema()"
   ]
  },
  {
   "cell_type": "code",
   "execution_count": 116,
   "id": "5c68dfeb",
   "metadata": {},
   "outputs": [
    {
     "name": "stdout",
     "output_type": "stream",
     "text": [
      "+-------+-----------------+------+-----------+--------+--------+------------+-----------------+----------------+--------------+---------------+---------------+------------+-----------+\n",
      "|   date|            class| trips|    farebox|  drives|vehicles|vehicles_day|avg_vehicles_road|avg_hour_vehicle|avg_day_driver|avg_hour_driver|avg_minute_trip|percent_card|trip_shared|\n",
      "+-------+-----------------+------+-----------+--------+--------+------------+-----------------+----------------+--------------+---------------+---------------+------------+-----------+\n",
      "|2021-06|           Yellow| 94130| 1,607,814 |  7,084 |    5636|      4,570 |             24.3|             9.1|          20.8|            8.4|           14.1|         78%|          -|\n",
      "|2021-06|            Green|  2891|    65,833 |  1,002 |     976|        531 |             16.3|             4.2|          16.1|            4.2|           20.5|         75%|          -|\n",
      "|2021-06|FHV - High Volume|498641|          -| 58,797 |   57856|     36,922 |             19.1|             6.9|          19.0|            6.9|             19|           -|        124|\n",
      "|2021-05|  FHV - Black Car| 13022|          -|  4,294 |    4278|      2,070 |             15.0|             4.6|          15.0|            4.6|             24|           -|          -|\n",
      "|2021-05|     FHV - Livery| 27753|          -|  5,296 |    5202|      3,328 |             19.8|             5.2|          19.8|            5.2|             18|           -|          -|\n",
      "|2021-05|   FHV - Lux Limo|   727|          -|    956 |     900|        339 |             11.7|             2.1|          11.2|            2.1|             66|           -|          -|\n",
      "|2021-05|FHV - High Volume|474753|          -|  56,869|   56102|      34,401|             19.0|             6.9|          18.9|            6.9|             18|           -|          -|\n",
      "|2021-05|            Green|  2843|     65,575|     979|     951|         517|             16.9|             4.3|          16.5|            4.2|             20|         78%|          -|\n",
      "|2021-05|           Yellow| 80499|  1,340,447|   6,579|    5228|       4,105|             24.3|             8.7|          20.6|            8.2|           13.4|         78%|          -|\n",
      "|2021-04|  FHV - Black Car| 12658|          -|   4,229|    4224|       2,098|             14.9|             4.5|          15.0|            4.5|             24|           -|          -|\n",
      "|2021-04|     FHV - Livery| 26758|          -|   5,122|    5010|       3,222|             19.3|             5.3|          19.2|            5.2|             18|           -|          -|\n",
      "|2021-04|   FHV - Lux Limo|   708|          -|     915|     872|         342|             11.8|             2.0|          11.5|            2.0|             59|           -|          -|\n",
      "|2021-04|FHV - High Volume|470299|          -|  54,481|   53741|      33,356|             18.6|             7.0|          18.5|            6.9|             17|           -|          -|\n",
      "|2021-04|            Green|  2896|     67,873|     953|     927|         515|             16.7|             4.4|          16.4|            4.3|           20.1|         78%|          -|\n",
      "|2021-04|           Yellow| 71982|  1,182,789|   6,103|    4924|       3,889|             23.7|             8.6|          20.2|            8.1|             13|         77%|          -|\n",
      "|2021-03|  FHV - Black Car| 13000|          -|   4,003|    3995|       2,049|             15.9|             4.6|          16.0|            4.6|             23|           -|          -|\n",
      "|2021-03|     FHV - Livery| 28654|          -|   5,295|    5195|       3,381|             20.2|             5.4|          20.1|            5.3|             17|           -|          -|\n",
      "|2021-03|   FHV - Lux Limo|   629|          -|     812|     791|         302|             11.9|             2.0|          11.8|            2.0|             56|           -|          -|\n",
      "|2021-03|FHV - High Volume|458777|          -|  52,117|   51751|      31,630|             18.9|             7.1|          19.0|            7.0|             17|           -|          -|\n",
      "|2021-03|            Green|  2703|     62,408|     951|     931|         482|             16.1|             4.4|          15.9|            4.4|           18.9|         79%|          -|\n",
      "+-------+-----------------+------+-----------+--------+--------+------------+-----------------+----------------+--------------+---------------+---------------+------------+-----------+\n",
      "only showing top 20 rows\n",
      "\n",
      "root\n",
      " |-- date: string (nullable = true)\n",
      " |-- class: string (nullable = true)\n",
      " |-- trips: integer (nullable = true)\n",
      " |-- farebox: string (nullable = true)\n",
      " |-- drives: string (nullable = true)\n",
      " |-- vehicles: integer (nullable = true)\n",
      " |-- vehicles_day: string (nullable = true)\n",
      " |-- avg_vehicles_road: string (nullable = true)\n",
      " |-- avg_hour_vehicle: string (nullable = true)\n",
      " |-- avg_day_driver: string (nullable = true)\n",
      " |-- avg_hour_driver: string (nullable = true)\n",
      " |-- avg_minute_trip: string (nullable = true)\n",
      " |-- percent_card: string (nullable = true)\n",
      " |-- trip_shared: string (nullable = true)\n",
      "\n"
     ]
    }
   ],
   "source": [
    "from pyspark.sql.functions import regexp_replace\n",
    "\n",
    "sparkDF = sparkDF.withColumn('vehicles', regexp_replace('vehicles', ',', ''))\n",
    "sparkDF = sparkDF.withColumn(\"vehicles\", sparkDF[\"vehicles\"].cast(IntegerType()))\n",
    "\n",
    "sparkDF.show()\n",
    "sparkDF.printSchema()"
   ]
  },
  {
   "cell_type": "code",
   "execution_count": 117,
   "id": "56169c07",
   "metadata": {},
   "outputs": [
    {
     "name": "stdout",
     "output_type": "stream",
     "text": [
      "+-------+-----------------+------+-----------+--------+--------+------------+-----------------+----------------+--------------+---------------+---------------+------------+-----------+\n",
      "|   date|            class| trips|    farebox|  drives|vehicles|vehicles_day|avg_vehicles_road|avg_hour_vehicle|avg_day_driver|avg_hour_driver|avg_minute_trip|percent_card|trip_shared|\n",
      "+-------+-----------------+------+-----------+--------+--------+------------+-----------------+----------------+--------------+---------------+---------------+------------+-----------+\n",
      "|2021-06|           Yellow| 94130| 1,607,814 |  7,084 |    5636|      4,570 |             24.3|             9.1|          20.8|            8.4|           14.1|         78%|          -|\n",
      "|2021-06|            Green|  2891|    65,833 |  1,002 |     976|        531 |             16.3|             4.2|          16.1|            4.2|           20.5|         75%|          -|\n",
      "|2021-06|FHV - High Volume|498641|          -| 58,797 |   57856|     36,922 |             19.1|             6.9|          19.0|            6.9|             19|           -|        124|\n",
      "|2021-05|  FHV - Black Car| 13022|          -|  4,294 |    4278|      2,070 |             15.0|             4.6|          15.0|            4.6|             24|           -|          -|\n",
      "|2021-05|     FHV - Livery| 27753|          -|  5,296 |    5202|      3,328 |             19.8|             5.2|          19.8|            5.2|             18|           -|          -|\n",
      "|2021-05|FHV - High Volume|474753|          -|  56,869|   56102|      34,401|             19.0|             6.9|          18.9|            6.9|             18|           -|          -|\n",
      "|2021-05|            Green|  2843|     65,575|     979|     951|         517|             16.9|             4.3|          16.5|            4.2|             20|         78%|          -|\n",
      "|2021-05|           Yellow| 80499|  1,340,447|   6,579|    5228|       4,105|             24.3|             8.7|          20.6|            8.2|           13.4|         78%|          -|\n",
      "|2021-04|  FHV - Black Car| 12658|          -|   4,229|    4224|       2,098|             14.9|             4.5|          15.0|            4.5|             24|           -|          -|\n",
      "|2021-04|     FHV - Livery| 26758|          -|   5,122|    5010|       3,222|             19.3|             5.3|          19.2|            5.2|             18|           -|          -|\n",
      "|2021-04|FHV - High Volume|470299|          -|  54,481|   53741|      33,356|             18.6|             7.0|          18.5|            6.9|             17|           -|          -|\n",
      "|2021-04|            Green|  2896|     67,873|     953|     927|         515|             16.7|             4.4|          16.4|            4.3|           20.1|         78%|          -|\n",
      "|2021-04|           Yellow| 71982|  1,182,789|   6,103|    4924|       3,889|             23.7|             8.6|          20.2|            8.1|             13|         77%|          -|\n",
      "|2021-03|  FHV - Black Car| 13000|          -|   4,003|    3995|       2,049|             15.9|             4.6|          16.0|            4.6|             23|           -|          -|\n",
      "|2021-03|     FHV - Livery| 28654|          -|   5,295|    5195|       3,381|             20.2|             5.4|          20.1|            5.3|             17|           -|          -|\n",
      "|2021-03|FHV - High Volume|458777|          -|  52,117|   51751|      31,630|             18.9|             7.1|          19.0|            7.0|             17|           -|          -|\n",
      "|2021-03|            Green|  2703|     62,408|     951|     931|         482|             16.1|             4.4|          15.9|            4.4|           18.9|         79%|          -|\n",
      "|2021-03|           Yellow| 61643|    979,149|   5,764|    4718|       3,652|             24.0|             8.3|          20.6|            7.9|           12.3|         76%|          -|\n",
      "|2021-02|  FHV - Black Car| 10716|          -|   3,563|    3561|       1,725|             13.6|             4.6|          13.6|            4.6|             23|           -|          -|\n",
      "|2021-02|FHV - High Volume|414755|         - |  47,206|   47267|      28,637|             17.0|             7.1|          17.1|            7.1|             16|           -|          -|\n",
      "+-------+-----------------+------+-----------+--------+--------+------------+-----------------+----------------+--------------+---------------+---------------+------------+-----------+\n",
      "only showing top 20 rows\n",
      "\n",
      "+-----------------+----------+\n",
      "|            class|sum(trips)|\n",
      "+-----------------+----------+\n",
      "|  FHV - Black Car|   1032334|\n",
      "|FHV - High Volume|  33093492|\n",
      "|            Green|   2662965|\n",
      "|     FHV - Livery|   3977317|\n",
      "|           Yellow|  48560842|\n",
      "|   FHV - Lux Limo|    204217|\n",
      "+-----------------+----------+\n",
      "\n"
     ]
    }
   ],
   "source": [
    "sparkDF.filter(sparkDF['trips'] > 1000).show()\n",
    "sparkDF.groupBy(\"class\").sum(\"trips\").show()"
   ]
  },
  {
   "cell_type": "code",
   "execution_count": 119,
   "id": "b5da0a0f",
   "metadata": {},
   "outputs": [
    {
     "name": "stdout",
     "output_type": "stream",
     "text": [
      "+-------+-----------------+------+-----------+--------+--------+------------+-----------------+----------------+--------------+---------------+---------------+------------+-----------+\n",
      "|   date|    vehicle_class| trips|    farebox|  drives|vehicles|vehicles_day|avg_vehicles_road|avg_hour_vehicle|avg_day_driver|avg_hour_driver|avg_minute_trip|percent_card|trip_shared|\n",
      "+-------+-----------------+------+-----------+--------+--------+------------+-----------------+----------------+--------------+---------------+---------------+------------+-----------+\n",
      "|2021-06|           Yellow| 94130| 1,607,814 |  7,084 |    5636|      4,570 |             24.3|             9.1|          20.8|            8.4|           14.1|         78%|          -|\n",
      "|2021-06|            Green|  2891|    65,833 |  1,002 |     976|        531 |             16.3|             4.2|          16.1|            4.2|           20.5|         75%|          -|\n",
      "|2021-06|FHV - High Volume|498641|          -| 58,797 |   57856|     36,922 |             19.1|             6.9|          19.0|            6.9|             19|           -|        124|\n",
      "|2021-05|  FHV - Black Car| 13022|          -|  4,294 |    4278|      2,070 |             15.0|             4.6|          15.0|            4.6|             24|           -|          -|\n",
      "|2021-05|     FHV - Livery| 27753|          -|  5,296 |    5202|      3,328 |             19.8|             5.2|          19.8|            5.2|             18|           -|          -|\n",
      "+-------+-----------------+------+-----------+--------+--------+------------+-----------------+----------------+--------------+---------------+---------------+------------+-----------+\n",
      "only showing top 5 rows\n",
      "\n"
     ]
    }
   ],
   "source": [
    "sparkDF = sparkDF.withColumnRenamed(\"class\",\"vehicle_class\")\n",
    "sparkDF.show(5)"
   ]
  },
  {
   "cell_type": "code",
   "execution_count": 121,
   "id": "5d318263",
   "metadata": {},
   "outputs": [
    {
     "name": "stdout",
     "output_type": "stream",
     "text": [
      "+-------+-----------------+------+-----------+--------+--------+------------+-----------------+----------------+--------------+---------------+---------------+------------+-----------+----+-----+\n",
      "|   date|    vehicle_class| trips|    farebox|  drives|vehicles|vehicles_day|avg_vehicles_road|avg_hour_vehicle|avg_day_driver|avg_hour_driver|avg_minute_trip|percent_card|trip_shared|year|month|\n",
      "+-------+-----------------+------+-----------+--------+--------+------------+-----------------+----------------+--------------+---------------+---------------+------------+-----------+----+-----+\n",
      "|2021-06|           Yellow| 94130| 1,607,814 |  7,084 |    5636|      4,570 |             24.3|             9.1|          20.8|            8.4|           14.1|         78%|          -|2021|   06|\n",
      "|2021-06|            Green|  2891|    65,833 |  1,002 |     976|        531 |             16.3|             4.2|          16.1|            4.2|           20.5|         75%|          -|2021|   06|\n",
      "|2021-06|FHV - High Volume|498641|          -| 58,797 |   57856|     36,922 |             19.1|             6.9|          19.0|            6.9|             19|           -|        124|2021|   06|\n",
      "|2021-05|  FHV - Black Car| 13022|          -|  4,294 |    4278|      2,070 |             15.0|             4.6|          15.0|            4.6|             24|           -|          -|2021|   05|\n",
      "|2021-05|     FHV - Livery| 27753|          -|  5,296 |    5202|      3,328 |             19.8|             5.2|          19.8|            5.2|             18|           -|          -|2021|   05|\n",
      "|2021-05|   FHV - Lux Limo|   727|          -|    956 |     900|        339 |             11.7|             2.1|          11.2|            2.1|             66|           -|          -|2021|   05|\n",
      "|2021-05|FHV - High Volume|474753|          -|  56,869|   56102|      34,401|             19.0|             6.9|          18.9|            6.9|             18|           -|          -|2021|   05|\n",
      "|2021-05|            Green|  2843|     65,575|     979|     951|         517|             16.9|             4.3|          16.5|            4.2|             20|         78%|          -|2021|   05|\n",
      "|2021-05|           Yellow| 80499|  1,340,447|   6,579|    5228|       4,105|             24.3|             8.7|          20.6|            8.2|           13.4|         78%|          -|2021|   05|\n",
      "|2021-04|  FHV - Black Car| 12658|          -|   4,229|    4224|       2,098|             14.9|             4.5|          15.0|            4.5|             24|           -|          -|2021|   04|\n",
      "|2021-04|     FHV - Livery| 26758|          -|   5,122|    5010|       3,222|             19.3|             5.3|          19.2|            5.2|             18|           -|          -|2021|   04|\n",
      "|2021-04|   FHV - Lux Limo|   708|          -|     915|     872|         342|             11.8|             2.0|          11.5|            2.0|             59|           -|          -|2021|   04|\n",
      "|2021-04|FHV - High Volume|470299|          -|  54,481|   53741|      33,356|             18.6|             7.0|          18.5|            6.9|             17|           -|          -|2021|   04|\n",
      "|2021-04|            Green|  2896|     67,873|     953|     927|         515|             16.7|             4.4|          16.4|            4.3|           20.1|         78%|          -|2021|   04|\n",
      "|2021-04|           Yellow| 71982|  1,182,789|   6,103|    4924|       3,889|             23.7|             8.6|          20.2|            8.1|             13|         77%|          -|2021|   04|\n",
      "|2021-03|  FHV - Black Car| 13000|          -|   4,003|    3995|       2,049|             15.9|             4.6|          16.0|            4.6|             23|           -|          -|2021|   03|\n",
      "|2021-03|     FHV - Livery| 28654|          -|   5,295|    5195|       3,381|             20.2|             5.4|          20.1|            5.3|             17|           -|          -|2021|   03|\n",
      "|2021-03|   FHV - Lux Limo|   629|          -|     812|     791|         302|             11.9|             2.0|          11.8|            2.0|             56|           -|          -|2021|   03|\n",
      "|2021-03|FHV - High Volume|458777|          -|  52,117|   51751|      31,630|             18.9|             7.1|          19.0|            7.0|             17|           -|          -|2021|   03|\n",
      "|2021-03|            Green|  2703|     62,408|     951|     931|         482|             16.1|             4.4|          15.9|            4.4|           18.9|         79%|          -|2021|   03|\n",
      "+-------+-----------------+------+-----------+--------+--------+------------+-----------------+----------------+--------------+---------------+---------------+------------+-----------+----+-----+\n",
      "only showing top 20 rows\n",
      "\n"
     ]
    }
   ],
   "source": [
    "from pyspark.sql.functions import split\n",
    "\n",
    "split_col = split(sparkDF['date'], '-')\n",
    "\n",
    "sparkDF = sparkDF.withColumn('year', split_col.getItem(0))\n",
    "sparkDF = sparkDF.withColumn('month', split_col.getItem(1))\n",
    "sparkDF.show()\n"
   ]
  },
  {
   "cell_type": "code",
   "execution_count": 123,
   "id": "96b4297d",
   "metadata": {},
   "outputs": [
    {
     "name": "stdout",
     "output_type": "stream",
     "text": [
      "+-------+-----------------+------+-----------+--------+--------+-----------------+----------------+--------------+---------------+---------------+------------+-----------+----+-----+\n",
      "|   date|    vehicle_class| trips|    farebox|  drives|vehicles|avg_vehicles_road|avg_hour_vehicle|avg_day_driver|avg_hour_driver|avg_minute_trip|percent_card|trip_shared|year|month|\n",
      "+-------+-----------------+------+-----------+--------+--------+-----------------+----------------+--------------+---------------+---------------+------------+-----------+----+-----+\n",
      "|2021-06|           Yellow| 94130| 1,607,814 |  7,084 |    5636|             24.3|             9.1|          20.8|            8.4|           14.1|         78%|          -|2021|   06|\n",
      "|2021-06|            Green|  2891|    65,833 |  1,002 |     976|             16.3|             4.2|          16.1|            4.2|           20.5|         75%|          -|2021|   06|\n",
      "|2021-06|FHV - High Volume|498641|          -| 58,797 |   57856|             19.1|             6.9|          19.0|            6.9|             19|           -|        124|2021|   06|\n",
      "|2021-05|  FHV - Black Car| 13022|          -|  4,294 |    4278|             15.0|             4.6|          15.0|            4.6|             24|           -|          -|2021|   05|\n",
      "|2021-05|     FHV - Livery| 27753|          -|  5,296 |    5202|             19.8|             5.2|          19.8|            5.2|             18|           -|          -|2021|   05|\n",
      "|2021-05|   FHV - Lux Limo|   727|          -|    956 |     900|             11.7|             2.1|          11.2|            2.1|             66|           -|          -|2021|   05|\n",
      "|2021-05|FHV - High Volume|474753|          -|  56,869|   56102|             19.0|             6.9|          18.9|            6.9|             18|           -|          -|2021|   05|\n",
      "|2021-05|            Green|  2843|     65,575|     979|     951|             16.9|             4.3|          16.5|            4.2|             20|         78%|          -|2021|   05|\n",
      "|2021-05|           Yellow| 80499|  1,340,447|   6,579|    5228|             24.3|             8.7|          20.6|            8.2|           13.4|         78%|          -|2021|   05|\n",
      "|2021-04|  FHV - Black Car| 12658|          -|   4,229|    4224|             14.9|             4.5|          15.0|            4.5|             24|           -|          -|2021|   04|\n",
      "|2021-04|     FHV - Livery| 26758|          -|   5,122|    5010|             19.3|             5.3|          19.2|            5.2|             18|           -|          -|2021|   04|\n",
      "|2021-04|   FHV - Lux Limo|   708|          -|     915|     872|             11.8|             2.0|          11.5|            2.0|             59|           -|          -|2021|   04|\n",
      "|2021-04|FHV - High Volume|470299|          -|  54,481|   53741|             18.6|             7.0|          18.5|            6.9|             17|           -|          -|2021|   04|\n",
      "|2021-04|            Green|  2896|     67,873|     953|     927|             16.7|             4.4|          16.4|            4.3|           20.1|         78%|          -|2021|   04|\n",
      "|2021-04|           Yellow| 71982|  1,182,789|   6,103|    4924|             23.7|             8.6|          20.2|            8.1|             13|         77%|          -|2021|   04|\n",
      "|2021-03|  FHV - Black Car| 13000|          -|   4,003|    3995|             15.9|             4.6|          16.0|            4.6|             23|           -|          -|2021|   03|\n",
      "|2021-03|     FHV - Livery| 28654|          -|   5,295|    5195|             20.2|             5.4|          20.1|            5.3|             17|           -|          -|2021|   03|\n",
      "|2021-03|   FHV - Lux Limo|   629|          -|     812|     791|             11.9|             2.0|          11.8|            2.0|             56|           -|          -|2021|   03|\n",
      "|2021-03|FHV - High Volume|458777|          -|  52,117|   51751|             18.9|             7.1|          19.0|            7.0|             17|           -|          -|2021|   03|\n",
      "|2021-03|            Green|  2703|     62,408|     951|     931|             16.1|             4.4|          15.9|            4.4|           18.9|         79%|          -|2021|   03|\n",
      "+-------+-----------------+------+-----------+--------+--------+-----------------+----------------+--------------+---------------+---------------+------------+-----------+----+-----+\n",
      "only showing top 20 rows\n",
      "\n"
     ]
    }
   ],
   "source": [
    "sparkDF = sparkDF.drop('vehicles_day')\n",
    "sparkDF.show()"
   ]
  },
  {
   "cell_type": "code",
   "execution_count": 126,
   "id": "ceaa7df5",
   "metadata": {},
   "outputs": [
    {
     "name": "stdout",
     "output_type": "stream",
     "text": [
      "+-------+-----------------+------+\n",
      "|   date|    vehicle_class| trips|\n",
      "+-------+-----------------+------+\n",
      "|2021-06|           Yellow| 94130|\n",
      "|2021-06|            Green|  2891|\n",
      "|2021-06|FHV - High Volume|498641|\n",
      "|2021-05|  FHV - Black Car| 13022|\n",
      "|2021-05|     FHV - Livery| 27753|\n",
      "|2021-05|FHV - High Volume|474753|\n",
      "|2021-05|            Green|  2843|\n",
      "|2021-05|           Yellow| 80499|\n",
      "|2021-04|  FHV - Black Car| 12658|\n",
      "|2021-04|     FHV - Livery| 26758|\n",
      "|2021-04|FHV - High Volume|470299|\n",
      "|2021-04|            Green|  2896|\n",
      "|2021-04|           Yellow| 71982|\n",
      "|2021-03|  FHV - Black Car| 13000|\n",
      "|2021-03|     FHV - Livery| 28654|\n",
      "|2021-03|FHV - High Volume|458777|\n",
      "|2021-03|            Green|  2703|\n",
      "|2021-03|           Yellow| 61643|\n",
      "|2021-02|  FHV - Black Car| 10716|\n",
      "|2021-02|FHV - High Volume|414755|\n",
      "+-------+-----------------+------+\n",
      "only showing top 20 rows\n",
      "\n"
     ]
    }
   ],
   "source": [
    "sparkDF.createOrReplaceTempView(\"trips\")\n",
    "\n",
    "sqlDF = sqlContext.sql(\"SELECT date, vehicle_class, trips FROM trips where trips > 1000\")\n",
    "sqlDF.show()"
   ]
  },
  {
   "cell_type": "code",
   "execution_count": 130,
   "id": "192cfc6d",
   "metadata": {},
   "outputs": [
    {
     "name": "stdout",
     "output_type": "stream",
     "text": [
      "+-----------------+----------+\n",
      "|    vehicle_class|sum(trips)|\n",
      "+-----------------+----------+\n",
      "|FHV - High Volume|    357610|\n",
      "|  FHV - Black Car|     16612|\n",
      "|   FHV - Lux Limo|      1513|\n",
      "|FHV - High Volume|    642341|\n",
      "|  FHV - Black Car|     16826|\n",
      "|FHV - High Volume|    429691|\n",
      "|           Yellow|    325857|\n",
      "|     FHV - Livery|     85721|\n",
      "|           Yellow|    518212|\n",
      "|  FHV - Black Car|     11293|\n",
      "|FHV - High Volume|    374990|\n",
      "|  FHV - Black Car|      7574|\n",
      "|  FHV - Black Car|     13985|\n",
      "|           Yellow|    435701|\n",
      "|           Yellow|    460393|\n",
      "|           Yellow|    479527|\n",
      "|     FHV - Livery|     43938|\n",
      "|   FHV - Lux Limo|      3240|\n",
      "|   FHV - Lux Limo|      5554|\n",
      "|           Yellow|    501708|\n",
      "+-----------------+----------+\n",
      "only showing top 20 rows\n",
      "\n"
     ]
    }
   ],
   "source": [
    "sqlDF = sqlContext.sql(\"SELECT vehicle_class, sum(trips) FROM trips where trips > 1000 GROUP BY date, vehicle_class \")\n",
    "sqlDF.show()"
   ]
  },
  {
   "cell_type": "code",
   "execution_count": 131,
   "id": "1be8ba2f",
   "metadata": {},
   "outputs": [
    {
     "name": "stdout",
     "output_type": "stream",
     "text": [
      "+-----------------+----------+\n",
      "|    vehicle_class|sum(trips)|\n",
      "+-----------------+----------+\n",
      "|FHV - High Volume|    357610|\n",
      "|  FHV - Black Car|     16612|\n",
      "|   FHV - Lux Limo|      1513|\n",
      "|FHV - High Volume|    642341|\n",
      "|  FHV - Black Car|     16826|\n",
      "|FHV - High Volume|    429691|\n",
      "|           Yellow|    325857|\n",
      "|     FHV - Livery|     85721|\n",
      "|           Yellow|    518212|\n",
      "|  FHV - Black Car|     11293|\n",
      "|FHV - High Volume|    374990|\n",
      "|  FHV - Black Car|      7574|\n",
      "|  FHV - Black Car|     13985|\n",
      "|           Yellow|    435701|\n",
      "|           Yellow|    460393|\n",
      "|           Yellow|    479527|\n",
      "|     FHV - Livery|     43938|\n",
      "|   FHV - Lux Limo|      3240|\n",
      "|   FHV - Lux Limo|      5554|\n",
      "|           Yellow|    501708|\n",
      "+-----------------+----------+\n",
      "only showing top 20 rows\n",
      "\n",
      "+-----------------+----------+\n",
      "|    vehicle_class|sum(trips)|\n",
      "+-----------------+----------+\n",
      "|FHV - High Volume|    357610|\n",
      "|  FHV - Black Car|     16612|\n",
      "|   FHV - Lux Limo|      1513|\n",
      "|FHV - High Volume|    642341|\n",
      "|  FHV - Black Car|     16826|\n",
      "|FHV - High Volume|    429691|\n",
      "|           Yellow|    325857|\n",
      "|     FHV - Livery|     85721|\n",
      "|           Yellow|    518212|\n",
      "|  FHV - Black Car|     11293|\n",
      "|FHV - High Volume|    374990|\n",
      "|  FHV - Black Car|      7574|\n",
      "|  FHV - Black Car|     13985|\n",
      "|           Yellow|    435701|\n",
      "|           Yellow|    460393|\n",
      "|           Yellow|    479527|\n",
      "|     FHV - Livery|     43938|\n",
      "|   FHV - Lux Limo|      3240|\n",
      "|   FHV - Lux Limo|      5554|\n",
      "|           Yellow|    501708|\n",
      "+-----------------+----------+\n",
      "only showing top 20 rows\n",
      "\n"
     ]
    }
   ],
   "source": [
    "sqlDF.na.fill(value='').show()\n",
    "\n",
    "#Replace Replace 0 for null on only population column \n",
    "sqlDF.na.fill(value='',subset=[\"vehicle_class\"]).show()"
   ]
  },
  {
   "cell_type": "code",
   "execution_count": 133,
   "id": "dcb81655",
   "metadata": {},
   "outputs": [
    {
     "name": "stderr",
     "output_type": "stream",
     "text": [
      "[Stage 66:==============================================>       (173 + 1) / 200]\r"
     ]
    },
    {
     "name": "stdout",
     "output_type": "stream",
     "text": [
      "         vehicle_class  sum(trips)\n",
      "0    FHV - High Volume      357610\n",
      "1      FHV - Black Car       16612\n",
      "2       FHV - Lux Limo        1513\n",
      "3    FHV - High Volume      642341\n",
      "4      FHV - Black Car       16826\n",
      "..                 ...         ...\n",
      "522    FHV - Black Car       17207\n",
      "523    FHV - Black Car       14535\n",
      "524             Yellow      482811\n",
      "525             Yellow      503152\n",
      "526             Yellow      499374\n",
      "\n",
      "[527 rows x 2 columns]\n"
     ]
    },
    {
     "name": "stderr",
     "output_type": "stream",
     "text": [
      "                                                                                \r"
     ]
    }
   ],
   "source": [
    "pandasDF = sqlDF.toPandas()\n",
    "print(pandasDF)\n"
   ]
  },
  {
   "cell_type": "code",
   "execution_count": 144,
   "id": "2781c6dc",
   "metadata": {},
   "outputs": [
    {
     "name": "stdout",
     "output_type": "stream",
     "text": [
      "+-------+-----------------+------+-----------+--------+--------+-----------------+----------------+--------------+---------------+---------------+------------+-----------+----+-----+\n",
      "|   date|    vehicle_class| trips|    farebox|  drives|vehicles|avg_vehicles_road|avg_hour_vehicle|avg_day_driver|avg_hour_driver|avg_minute_trip|percent_card|trip_shared|year|month|\n",
      "+-------+-----------------+------+-----------+--------+--------+-----------------+----------------+--------------+---------------+---------------+------------+-----------+----+-----+\n",
      "|2021-06|           Yellow| 94130| 1,607,814 |  7,084 |    5636|             24.3|             9.1|          20.8|            8.4|           14.1|         78%|          -|2021|   06|\n",
      "|2021-06|            Green|  2891|    65,833 |  1,002 |     976|             16.3|             4.2|          16.1|            4.2|           20.5|         75%|          -|2021|   06|\n",
      "|2021-06|FHV - High Volume|498641|          -| 58,797 |   57856|             19.1|             6.9|          19.0|            6.9|             19|           -|        124|2021|   06|\n",
      "|2021-05|  FHV - Black Car| 13022|          -|  4,294 |    4278|             15.0|             4.6|          15.0|            4.6|             24|           -|          -|2021|   05|\n",
      "|2021-05|     FHV - Livery| 27753|          -|  5,296 |    5202|             19.8|             5.2|          19.8|            5.2|             18|           -|          -|2021|   05|\n",
      "|2021-05|   FHV - Lux Limo|   727|          -|    956 |     900|             11.7|             2.1|          11.2|            2.1|             66|           -|          -|2021|   05|\n",
      "|2021-05|FHV - High Volume|474753|          -|  56,869|   56102|             19.0|             6.9|          18.9|            6.9|             18|           -|          -|2021|   05|\n",
      "|2021-05|            Green|  2843|     65,575|     979|     951|             16.9|             4.3|          16.5|            4.2|             20|         78%|          -|2021|   05|\n",
      "|2021-05|           Yellow| 80499|  1,340,447|   6,579|    5228|             24.3|             8.7|          20.6|            8.2|           13.4|         78%|          -|2021|   05|\n",
      "|2021-04|  FHV - Black Car| 12658|          -|   4,229|    4224|             14.9|             4.5|          15.0|            4.5|             24|           -|          -|2021|   04|\n",
      "|2021-04|     FHV - Livery| 26758|          -|   5,122|    5010|             19.3|             5.3|          19.2|            5.2|             18|           -|          -|2021|   04|\n",
      "|2021-04|   FHV - Lux Limo|   708|          -|     915|     872|             11.8|             2.0|          11.5|            2.0|             59|           -|          -|2021|   04|\n",
      "|2021-04|FHV - High Volume|470299|          -|  54,481|   53741|             18.6|             7.0|          18.5|            6.9|             17|           -|          -|2021|   04|\n",
      "|2021-04|            Green|  2896|     67,873|     953|     927|             16.7|             4.4|          16.4|            4.3|           20.1|         78%|          -|2021|   04|\n",
      "|2021-04|           Yellow| 71982|  1,182,789|   6,103|    4924|             23.7|             8.6|          20.2|            8.1|             13|         77%|          -|2021|   04|\n",
      "|2021-03|  FHV - Black Car| 13000|          -|   4,003|    3995|             15.9|             4.6|          16.0|            4.6|             23|           -|          -|2021|   03|\n",
      "|2021-03|     FHV - Livery| 28654|          -|   5,295|    5195|             20.2|             5.4|          20.1|            5.3|             17|           -|          -|2021|   03|\n",
      "|2021-03|   FHV - Lux Limo|   629|          -|     812|     791|             11.9|             2.0|          11.8|            2.0|             56|           -|          -|2021|   03|\n",
      "|2021-03|FHV - High Volume|458777|          -|  52,117|   51751|             18.9|             7.1|          19.0|            7.0|             17|           -|          -|2021|   03|\n",
      "|2021-03|            Green|  2703|     62,408|     951|     931|             16.1|             4.4|          15.9|            4.4|           18.9|         79%|          -|2021|   03|\n",
      "+-------+-----------------+------+-----------+--------+--------+-----------------+----------------+--------------+---------------+---------------+------------+-----------+----+-----+\n",
      "only showing top 20 rows\n",
      "\n"
     ]
    }
   ],
   "source": [
    "sparkDF.show()\n",
    "df = sparkDF.groupBy(\"date\") \\\n",
    "       .sum(\"vehicles\", \"trips\") \\\n",
    "       .withColumnRenamed(\"sum(vehicles)\", \"vechicles\") \\\n",
    "       .withColumnRenamed(\"sum(trips)\",\"trips\")"
   ]
  },
  {
   "cell_type": "code",
   "execution_count": 151,
   "id": "f7152137",
   "metadata": {},
   "outputs": [
    {
     "name": "stdout",
     "output_type": "stream",
     "text": [
      "       date  vechicles    trips\n",
      "0   2020-06      41734   304485\n",
      "1   2020-12      68046   460969\n",
      "2   2018-10     117133  1054264\n",
      "3   2013-09      13785   471779\n",
      "4   2010-08      12206   404115\n",
      "..      ...        ...      ...\n",
      "73  2020-10      68788   520783\n",
      "74  2018-09     112871  1008901\n",
      "75  2017-01      95162   788284\n",
      "76  2018-07     111852   967165\n",
      "77  2012-03      13320   520764\n",
      "\n",
      "[78 rows x 3 columns]\n"
     ]
    },
    {
     "name": "stderr",
     "output_type": "stream",
     "text": [
      "                                                                                \r"
     ]
    },
    {
     "data": {
      "text/plain": [
       "<AxesSubplot:xlabel='vechicles', ylabel='trips'>"
      ]
     },
     "execution_count": 151,
     "metadata": {},
     "output_type": "execute_result"
    },
    {
     "data": {
      "image/png": "[encoded data removed]",
      "text/plain": [
       "<Figure size 432x288 with 1 Axes>"
      ]
     },
     "metadata": {
      "needs_background": "light"
     },
     "output_type": "display_data"
    }
   ],
   "source": [
    "pandasDF = df.sample(0.6).toPandas()\n",
    "print(pandasDF)\n",
    "pandasDF.plot.scatter(x='vechicles', y='trips', c='DarkBlue')"
   ]
  },
  {
   "cell_type": "code",
   "execution_count": 153,
   "id": "deef4037",
   "metadata": {},
   "outputs": [
    {
     "name": "stdout",
     "output_type": "stream",
     "text": [
      "+---------+------+\n",
      "| features| trips|\n",
      "+---------+------+\n",
      "|[41734.0]|304485|\n",
      "|[13334.0]|492962|\n",
      "|[68046.0]|460969|\n",
      "+---------+------+\n",
      "only showing top 3 rows\n",
      "\n"
     ]
    }
   ],
   "source": [
    "from pyspark.ml.feature import VectorAssembler\n",
    "\n",
    "\n",
    "vectorAssembler = VectorAssembler(inputCols = ['vechicles'], outputCol = 'features')\n",
    "vhouse_df = vectorAssembler.transform(df)\n",
    "vhouse_df = vhouse_df.select(['features', 'trips'])\n",
    "vhouse_df.show(3)"
   ]
  },
  {
   "cell_type": "code",
   "execution_count": 155,
   "id": "90586bdd",
   "metadata": {},
   "outputs": [],
   "source": [
    "splits = vhouse_df.randomSplit([0.7, 0.3])\n",
    "train_df = splits[0]\n",
    "test_df = splits[1]"
   ]
  },
  {
   "cell_type": "code",
   "execution_count": 157,
   "id": "879f9095",
   "metadata": {},
   "outputs": [
    {
     "name": "stderr",
     "output_type": "stream",
     "text": [
      "21/08/22 18:35:31 WARN BLAS: Failed to load implementation from: com.github.fommil.netlib.NativeSystemBLAS\n",
      "21/08/22 18:35:31 WARN BLAS: Failed to load implementation from: com.github.fommil.netlib.NativeRefBLAS\n",
      "[Stage 142:============================================>        (169 + 1) / 200]\r"
     ]
    },
    {
     "name": "stdout",
     "output_type": "stream",
     "text": [
      "Coefficients: [5.079590573004408]\n",
      "Intercept: 360190.02991287474\n"
     ]
    },
    {
     "name": "stderr",
     "output_type": "stream",
     "text": [
      "                                                                                \r"
     ]
    }
   ],
   "source": [
    "from pyspark.ml.regression import LinearRegression\n",
    "\n",
    "lr = LinearRegression(featuresCol = 'features', labelCol='trips', maxIter=10, regParam=0.3, elasticNetParam=0.8)\n",
    "\n",
    "lr_model = lr.fit(train_df)\n",
    "\n",
    "print(\"Coefficients: \" + str(lr_model.coefficients))\n",
    "print(\"Intercept: \" + str(lr_model.intercept))"
   ]
  },
  {
   "cell_type": "code",
   "execution_count": 159,
   "id": "5332f562",
   "metadata": {},
   "outputs": [
    {
     "name": "stdout",
     "output_type": "stream",
     "text": [
      "r2: 0.805539\n"
     ]
    }
   ],
   "source": [
    "trainingSummary = lr_model.summary\n",
    "print(\"r2: %f\" % trainingSummary.r2)"
   ]
  },
  {
   "cell_type": "code",
   "execution_count": 160,
   "id": "fd814203",
   "metadata": {},
   "outputs": [
    {
     "name": "stdout",
     "output_type": "stream",
     "text": [
      "+------------------+-------+----------+\n",
      "|        prediction|  trips|  features|\n",
      "+------------------+-------+----------+\n",
      "| 906393.3246374656| 874697|[107529.0]|\n",
      "| 441930.8014136617| 470069| [16092.0]|\n",
      "| 928017.1417067456|1015410|[111786.0]|\n",
      "|427956.84774732654| 479148| [13341.0]|\n",
      "| 766415.0472171833| 769659| [79972.0]|\n",
      "| 427702.8682186763| 501708| [13291.0]|\n",
      "| 911467.8356198971| 934016|[108528.0]|\n",
      "| 922571.8206124848|1033744|[110714.0]|\n",
      "| 760746.2241377104| 708300| [78856.0]|\n",
      "| 427773.9824866984| 479376| [13305.0]|\n",
      "|  854794.843596887| 875966| [97371.0]|\n",
      "| 830880.1311791822| 823614| [92663.0]|\n",
      "|427875.57429815846| 502097| [13325.0]|\n",
      "| 810668.4402891977| 768048| [88684.0]|\n",
      "| 897199.2657003277| 805244|[105719.0]|\n",
      "| 702457.9223124848| 565406| [67381.0]|\n",
      "|  673900.464111054| 501175| [61759.0]|\n",
      "| 944805.1885505251| 928140|[115091.0]|\n",
      "| 892429.5301522766| 856428|[104780.0]|\n",
      "| 427773.9824866984| 494137| [13305.0]|\n",
      "+------------------+-------+----------+\n",
      "only showing top 20 rows\n",
      "\n"
     ]
    }
   ],
   "source": [
    "predictions = lr_model.transform(test_df)\n",
    "predictions.select(\"prediction\",\"trips\",\"features\").show()"
   ]
  },
  {
   "cell_type": "code",
   "execution_count": 161,
   "id": "4e00f37a",
   "metadata": {},
   "outputs": [
    {
     "name": "stdout",
     "output_type": "stream",
     "text": [
      "+-------+-----------------+------+-----------+--------+--------+-----------------+----------------+--------------+---------------+---------------+------------+-----------+----+-----+\n",
      "|   date|    vehicle_class| trips|    farebox|  drives|vehicles|avg_vehicles_road|avg_hour_vehicle|avg_day_driver|avg_hour_driver|avg_minute_trip|percent_card|trip_shared|year|month|\n",
      "+-------+-----------------+------+-----------+--------+--------+-----------------+----------------+--------------+---------------+---------------+------------+-----------+----+-----+\n",
      "|2021-06|           Yellow| 94130| 1,607,814 |  7,084 |    5636|             24.3|               9|          20.8|            8.4|           14.1|         78%|          -|2021|   06|\n",
      "|2021-06|            Green|  2891|    65,833 |  1,002 |     976|             16.3|               4|          16.1|            4.2|           20.5|         75%|          -|2021|   06|\n",
      "|2021-06|FHV - High Volume|498641|          -| 58,797 |   57856|             19.1|               6|          19.0|            6.9|             19|           -|        124|2021|   06|\n",
      "|2021-05|  FHV - Black Car| 13022|          -|  4,294 |    4278|             15.0|               4|          15.0|            4.6|             24|           -|          -|2021|   05|\n",
      "|2021-05|     FHV - Livery| 27753|          -|  5,296 |    5202|             19.8|               5|          19.8|            5.2|             18|           -|          -|2021|   05|\n",
      "|2021-05|   FHV - Lux Limo|   727|          -|    956 |     900|             11.7|               2|          11.2|            2.1|             66|           -|          -|2021|   05|\n",
      "|2021-05|FHV - High Volume|474753|          -|  56,869|   56102|             19.0|               6|          18.9|            6.9|             18|           -|          -|2021|   05|\n",
      "|2021-05|            Green|  2843|     65,575|     979|     951|             16.9|               4|          16.5|            4.2|             20|         78%|          -|2021|   05|\n",
      "|2021-05|           Yellow| 80499|  1,340,447|   6,579|    5228|             24.3|               8|          20.6|            8.2|           13.4|         78%|          -|2021|   05|\n",
      "|2021-04|  FHV - Black Car| 12658|          -|   4,229|    4224|             14.9|               4|          15.0|            4.5|             24|           -|          -|2021|   04|\n",
      "|2021-04|     FHV - Livery| 26758|          -|   5,122|    5010|             19.3|               5|          19.2|            5.2|             18|           -|          -|2021|   04|\n",
      "|2021-04|   FHV - Lux Limo|   708|          -|     915|     872|             11.8|               2|          11.5|            2.0|             59|           -|          -|2021|   04|\n",
      "|2021-04|FHV - High Volume|470299|          -|  54,481|   53741|             18.6|               7|          18.5|            6.9|             17|           -|          -|2021|   04|\n",
      "|2021-04|            Green|  2896|     67,873|     953|     927|             16.7|               4|          16.4|            4.3|           20.1|         78%|          -|2021|   04|\n",
      "|2021-04|           Yellow| 71982|  1,182,789|   6,103|    4924|             23.7|               8|          20.2|            8.1|             13|         77%|          -|2021|   04|\n",
      "|2021-03|  FHV - Black Car| 13000|          -|   4,003|    3995|             15.9|               4|          16.0|            4.6|             23|           -|          -|2021|   03|\n",
      "|2021-03|     FHV - Livery| 28654|          -|   5,295|    5195|             20.2|               5|          20.1|            5.3|             17|           -|          -|2021|   03|\n",
      "|2021-03|   FHV - Lux Limo|   629|          -|     812|     791|             11.9|               2|          11.8|            2.0|             56|           -|          -|2021|   03|\n",
      "|2021-03|FHV - High Volume|458777|          -|  52,117|   51751|             18.9|               7|          19.0|            7.0|             17|           -|          -|2021|   03|\n",
      "|2021-03|            Green|  2703|     62,408|     951|     931|             16.1|               4|          15.9|            4.4|           18.9|         79%|          -|2021|   03|\n",
      "+-------+-----------------+------+-----------+--------+--------+-----------------+----------------+--------------+---------------+---------------+------------+-----------+----+-----+\n",
      "only showing top 20 rows\n",
      "\n",
      "root\n",
      " |-- date: string (nullable = true)\n",
      " |-- vehicle_class: string (nullable = true)\n",
      " |-- trips: integer (nullable = true)\n",
      " |-- farebox: string (nullable = true)\n",
      " |-- drives: string (nullable = true)\n",
      " |-- vehicles: integer (nullable = true)\n",
      " |-- avg_vehicles_road: string (nullable = true)\n",
      " |-- avg_hour_vehicle: integer (nullable = true)\n",
      " |-- avg_day_driver: string (nullable = true)\n",
      " |-- avg_hour_driver: string (nullable = true)\n",
      " |-- avg_minute_trip: string (nullable = true)\n",
      " |-- percent_card: string (nullable = true)\n",
      " |-- trip_shared: string (nullable = true)\n",
      " |-- year: string (nullable = true)\n",
      " |-- month: string (nullable = true)\n",
      "\n"
     ]
    }
   ],
   "source": [
    "sparkDF = sparkDF.withColumn('avg_hour_vehicle', regexp_replace('avg_hour_vehicle', ',', ''))\n",
    "sparkDF = sparkDF.withColumn(\"avg_hour_vehicle\", sparkDF[\"avg_hour_vehicle\"].cast(IntegerType()))\n",
    "\n",
    "sparkDF.show()\n",
    "sparkDF.printSchema()"
   ]
  },
  {
   "cell_type": "code",
   "execution_count": 173,
   "id": "f5c82d79",
   "metadata": {},
   "outputs": [],
   "source": [
    "from pyspark.sql import functions\n",
    "\n",
    "df = sparkDF.groupBy(\"date\") \\\n",
    "       .agg(functions.sum('vehicles'), functions.sum('trips'), functions.avg('avg_hour_vehicle')) \\\n",
    "       .withColumnRenamed(\"sum(vehicles)\", \"vechicles\") \\\n",
    "       .withColumnRenamed(\"sum(trips)\",\"trips\") \\\n",
    "       .withColumnRenamed(\"avg(avg_hour_vehicle)\",\"avg_hour_vehicle\")"
   ]
  },
  {
   "cell_type": "code",
   "execution_count": 174,
   "id": "f403cf52",
   "metadata": {},
   "outputs": [
    {
     "name": "stdout",
     "output_type": "stream",
     "text": [
      "+-------+---------+-------+-----------------+\n",
      "|   date|vechicles|  trips| avg_hour_vehicle|\n",
      "+-------+---------+-------+-----------------+\n",
      "|2020-06|    41734| 304485|4.666666666666667|\n",
      "|2013-05|    13334| 492962|             15.0|\n",
      "|2020-12|    68046| 460969|              4.5|\n",
      "|2019-10|   113770| 984481|5.166666666666667|\n",
      "|2018-10|   117133|1054264|              5.5|\n",
      "|2020-02|   109897|1037794|5.166666666666667|\n",
      "|2013-09|    13785| 471779|             10.0|\n",
      "|2010-08|    12206| 404115|             14.0|\n",
      "|2017-09|   107529| 874697|5.333333333333333|\n",
      "|2019-11|   111786|1015410|5.166666666666667|\n",
      "|2013-12|    16092| 470069|             10.0|\n",
      "|2021-04|    69698| 585301|              5.0|\n",
      "|2010-11|    12347| 463701|             14.0|\n",
      "|2013-06|    13341| 479148|             15.0|\n",
      "|2010-02|    12171| 397969|             14.0|\n",
      "|2017-10|   108796| 915780|              5.5|\n",
      "|2021-06|    64468| 595662|6.333333333333333|\n",
      "|2010-04|    13326| 504798|             14.0|\n",
      "|2016-02|    79972| 769659|5.666666666666667|\n",
      "|2019-03|   115963|1084071|5.166666666666667|\n",
      "+-------+---------+-------+-----------------+\n",
      "only showing top 20 rows\n",
      "\n"
     ]
    }
   ],
   "source": [
    "df.show()"
   ]
  },
  {
   "cell_type": "code",
   "execution_count": 175,
   "id": "114fc796",
   "metadata": {},
   "outputs": [
    {
     "name": "stdout",
     "output_type": "stream",
     "text": [
      "       date  vechicles    trips  avg_hour_vehicle\n",
      "0   2020-06      41734   304485          4.666667\n",
      "1   2020-12      68046   460969          4.500000\n",
      "2   2018-10     117133  1054264          5.500000\n",
      "3   2020-02     109897  1037794          5.166667\n",
      "4   2013-09      13785   471779         10.000000\n",
      "..      ...        ...      ...               ...\n",
      "82  2018-09     112871  1008901          5.333333\n",
      "83  2017-01      95162   788284          5.500000\n",
      "84  2013-04      13343   503249         15.000000\n",
      "85  2012-03      13320   520764         15.000000\n",
      "86  2015-03      42054   590927          5.833333\n",
      "\n",
      "[87 rows x 4 columns]\n"
     ]
    },
    {
     "name": "stderr",
     "output_type": "stream",
     "text": [
      "                                                                                \r"
     ]
    },
    {
     "data": {
      "text/plain": [
       "<AxesSubplot:xlabel='avg_hour_vehicle', ylabel='trips'>"
      ]
     },
     "execution_count": 175,
     "metadata": {},
     "output_type": "execute_result"
    },
    {
     "data": {
      "image/png": "[encoded data removed]",
      "text/plain": [
       "<Figure size 432x288 with 1 Axes>"
      ]
     },
     "metadata": {
      "needs_background": "light"
     },
     "output_type": "display_data"
    }
   ],
   "source": [
    "pandasDF = df.sample(0.6).toPandas()\n",
    "print(pandasDF)\n",
    "pandasDF.plot.scatter(x='avg_hour_vehicle', y='trips', c='DarkBlue')"
   ]
  },
  {
   "cell_type": "code",
   "execution_count": 176,
   "id": "0b7e197e",
   "metadata": {},
   "outputs": [
    {
     "name": "stdout",
     "output_type": "stream",
     "text": [
      "+--------------------+------+\n",
      "|            features| trips|\n",
      "+--------------------+------+\n",
      "|[41734.0,4.666666...|304485|\n",
      "|      [13334.0,15.0]|492962|\n",
      "|       [68046.0,4.5]|460969|\n",
      "+--------------------+------+\n",
      "only showing top 3 rows\n",
      "\n"
     ]
    }
   ],
   "source": [
    "from pyspark.ml.feature import VectorAssembler\n",
    "\n",
    "\n",
    "vectorAssembler = VectorAssembler(inputCols = ['vechicles', 'avg_hour_vehicle'], outputCol = 'features')\n",
    "vhouse_df = vectorAssembler.transform(df)\n",
    "vhouse_df = vhouse_df.select(['features', 'trips'])\n",
    "vhouse_df.show(3)"
   ]
  },
  {
   "cell_type": "code",
   "execution_count": 178,
   "id": "fc89a96c",
   "metadata": {},
   "outputs": [],
   "source": [
    "splits = vhouse_df.randomSplit([0.7, 0.3])\n",
    "train_df = splits[0]\n",
    "test_df = splits[1]"
   ]
  },
  {
   "cell_type": "code",
   "execution_count": 179,
   "id": "0c86a4b5",
   "metadata": {},
   "outputs": [
    {
     "name": "stderr",
     "output_type": "stream",
     "text": [
      "[Stage 194:====================================================>(199 + 1) / 200]\r"
     ]
    },
    {
     "name": "stdout",
     "output_type": "stream",
     "text": [
      "Coefficients: [7.432072029122779,32005.646865074286]\n",
      "Intercept: -48998.143249689834\n"
     ]
    },
    {
     "name": "stderr",
     "output_type": "stream",
     "text": [
      "                                                                                \r"
     ]
    }
   ],
   "source": [
    "from pyspark.ml.regression import LinearRegression\n",
    "\n",
    "lr = LinearRegression(featuresCol = 'features', labelCol='trips', maxIter=10, regParam=0.3, elasticNetParam=0.8)\n",
    "\n",
    "lr_model = lr.fit(train_df)\n",
    "\n",
    "print(\"Coefficients: \" + str(lr_model.coefficients))\n",
    "print(\"Intercept: \" + str(lr_model.intercept))"
   ]
  },
  {
   "cell_type": "code",
   "execution_count": 180,
   "id": "f4da4d7c",
   "metadata": {},
   "outputs": [
    {
     "name": "stdout",
     "output_type": "stream",
     "text": [
      "r2: 0.897513\n"
     ]
    }
   ],
   "source": [
    "trainingSummary = lr_model.summary\n",
    "print(\"r2: %f\" % trainingSummary.r2)"
   ]
  },
  {
   "cell_type": "code",
   "execution_count": 181,
   "id": "d5e61db7",
   "metadata": {},
   "outputs": [
    {
     "name": "stdout",
     "output_type": "stream",
     "text": [
      "+------------------+-------+--------------------+\n",
      "|        prediction|  trips|            features|\n",
      "+------------------+-------+--------------------+\n",
      "| 933126.7853376999|1037794|[109897.0,5.16666...|\n",
      "| 530237.8326669515| 479148|      [13341.0,15.0]|\n",
      "| 489536.6615278035| 397969|      [12171.0,14.0]|\n",
      "| 935612.6229886606| 915780|      [108796.0,5.5]|\n",
      "| 498120.7047214403| 504798|      [13326.0,14.0]|\n",
      "| 726724.8532987379| 769659|[79972.0,5.666666...|\n",
      "| 967825.1764022764|1017488|[113848.0,5.33333...|\n",
      "| 978209.7342663588|1084071|[115963.0,5.16666...|\n",
      "| 933620.8276848557| 934016|      [108528.0,5.5]|\n",
      "| 856035.4745334452| 875966|[97371.0,5.666666...|\n",
      "| 489908.2651292597| 517972|      [12221.0,14.0]|\n",
      "| 530118.9195144855| 502097|      [13325.0,15.0]|\n",
      "|  902075.588400025| 805244|[105719.0,5.16666...|\n",
      "|497964.63120882877| 494137|      [13305.0,14.0]|\n",
      "| 529843.9328494079| 518212|      [13288.0,15.0]|\n",
      "|398771.05114949885| 470460|      [17184.0,10.0]|\n",
      "|  869881.424723701| 863049|[99234.0,5.666666...|\n",
      "| 559282.2237219996| 578179|       [58160.0,5.5]|\n",
      "|  956602.747638301| 980068|[112338.0,5.33333...|\n",
      "| 902432.3278574229| 803439|[105767.0,5.16666...|\n",
      "+------------------+-------+--------------------+\n",
      "only showing top 20 rows\n",
      "\n"
     ]
    },
    {
     "name": "stderr",
     "output_type": "stream",
     "text": [
      "                                                                                \r"
     ]
    }
   ],
   "source": [
    "predictions = lr_model.transform(test_df)\n",
    "predictions.select(\"prediction\",\"trips\",\"features\").show()"
   ]
  },
  {
   "cell_type": "code",
   "execution_count": null,
   "id": "53013292",
   "metadata": {},
   "outputs": [],
   "source": [
    "sc.stop()"
   ]
  },
  {
   "cell_type": "code",
   "execution_count": null,
   "id": "a2cb0f42",
   "metadata": {},
   "outputs": [],
   "source": []
  }
 ],
 "metadata": {
  "kernelspec": {
   "display_name": "Python 3 (ipykernel)",
   "language": "python",
   "name": "python3"
  },
  "language_info": {
   "codemirror_mode": {
    "name": "ipython",
    "version": 3
   },
   "file_extension": ".py",
   "mimetype": "text/x-python",
   "name": "python",
   "nbconvert_exporter": "python",
   "pygments_lexer": "ipython3",
   "version": "3.9.6"
  }
 },
 "nbformat": 4,
 "nbformat_minor": 5
}
