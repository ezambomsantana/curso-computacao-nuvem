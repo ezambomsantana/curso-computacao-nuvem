{
 "cells": [
  {
   "cell_type": "code",
   "execution_count": 1,
   "id": "2ab1dc76",
   "metadata": {},
   "outputs": [
    {
     "name": "stderr",
     "output_type": "stream",
     "text": [
      "WARNING: An illegal reflective access operation has occurred\n",
      "WARNING: Illegal reflective access by org.apache.spark.unsafe.Platform (file:/usr/local/spark-3.1.2-bin-hadoop3.2/jars/spark-unsafe_2.12-3.1.2.jar) to constructor java.nio.DirectByteBuffer(long,int)\n",
      "WARNING: Please consider reporting this to the maintainers of org.apache.spark.unsafe.Platform\n",
      "WARNING: Use --illegal-access=warn to enable warnings of further illegal reflective access operations\n",
      "WARNING: All illegal access operations will be denied in a future release\n",
      "21/09/14 00:21:19 WARN NativeCodeLoader: Unable to load native-hadoop library for your platform... using builtin-java classes where applicable\n",
      "Using Spark's default log4j profile: org/apache/spark/log4j-defaults.properties\n",
      "Setting default log level to \"WARN\".\n",
      "To adjust logging level use sc.setLogLevel(newLevel). For SparkR, use setLogLevel(newLevel).\n"
     ]
    }
   ],
   "source": [
    "from pyspark.sql import SparkSession\n",
    "\n",
    "from graphframes import GraphFrame\n",
    "\n",
    "session = SparkSession.builder.master('local').getOrCreate()"
   ]
  },
  {
   "cell_type": "code",
   "execution_count": 2,
   "id": "7ac0937f",
   "metadata": {},
   "outputs": [
    {
     "name": "stderr",
     "output_type": "stream",
     "text": [
      "                                                                                \r"
     ]
    },
    {
     "name": "stdout",
     "output_type": "stream",
     "text": [
      "+----+------+\n",
      "|  id|  NAME|\n",
      "+----+------+\n",
      "|1090|Jessie|\n",
      "|1159|Melvin|\n",
      "|1436| Hosea|\n",
      "|1512| Ernst|\n",
      "|1572|Finley|\n",
      "+----+------+\n",
      "only showing top 5 rows\n",
      "\n"
     ]
    }
   ],
   "source": [
    "used_df = session.read.format(\"csv\").option(\"header\", \"true\").load(\"user.csv\") \\\n",
    "                .withColumnRenamed(\"ID\", \"id\")\n",
    "\n",
    "used_df.show(5)\n",
    "used_df = used_df.sample(0.2)"
   ]
  },
  {
   "cell_type": "code",
   "execution_count": 3,
   "id": "575b6a29",
   "metadata": {},
   "outputs": [
    {
     "name": "stdout",
     "output_type": "stream",
     "text": [
      "+----+----+\n",
      "| src| dst|\n",
      "+----+----+\n",
      "|1090|5309|\n",
      "|1090|3547|\n",
      "|1090|5166|\n",
      "|1090|5307|\n",
      "|1159|1807|\n",
      "+----+----+\n",
      "only showing top 5 rows\n",
      "\n"
     ]
    }
   ],
   "source": [
    "edges_df = session.read.format(\"csv\").option(\"header\", \"true\").load(\"edges.csv\") \\\n",
    "                .withColumnRenamed(\"USER_1\", \"src\") \\\n",
    "                .withColumnRenamed(\"USER_2\", \"dst\")\n",
    "\n",
    "edges_df.show(5)\n",
    "edges_df = edges_df.sample(0.2)"
   ]
  },
  {
   "cell_type": "code",
   "execution_count": 4,
   "id": "ef903219",
   "metadata": {},
   "outputs": [],
   "source": [
    "g = GraphFrame(used_df, edges_df)\n"
   ]
  },
  {
   "cell_type": "code",
   "execution_count": 5,
   "id": "1257fac9",
   "metadata": {},
   "outputs": [
    {
     "data": {
      "text/plain": [
       "1281"
      ]
     },
     "execution_count": 5,
     "metadata": {},
     "output_type": "execute_result"
    }
   ],
   "source": [
    "g.vertices.count()"
   ]
  },
  {
   "cell_type": "code",
   "execution_count": 6,
   "id": "6389ecae",
   "metadata": {},
   "outputs": [
    {
     "name": "stderr",
     "output_type": "stream",
     "text": [
      "                                                                                \r"
     ]
    },
    {
     "data": {
      "text/plain": [
       "66874"
      ]
     },
     "execution_count": 6,
     "metadata": {},
     "output_type": "execute_result"
    }
   ],
   "source": [
    "g.edges.count()"
   ]
  },
  {
   "cell_type": "code",
   "execution_count": 11,
   "id": "b1986395",
   "metadata": {},
   "outputs": [
    {
     "name": "stderr",
     "output_type": "stream",
     "text": [
      "[Stage 46:>                                                         (0 + 1) / 1]\r"
     ]
    },
    {
     "name": "stdout",
     "output_type": "stream",
     "text": [
      "+----+--------+\n",
      "|  id|    NAME|\n",
      "+----+--------+\n",
      "|4704|   Ammon|\n",
      "|2664|    Edna|\n",
      "|3953|Gottlieb|\n",
      "| 829|    Cato|\n",
      "+----+--------+\n",
      "\n"
     ]
    },
    {
     "name": "stderr",
     "output_type": "stream",
     "text": [
      "                                                                                \r"
     ]
    }
   ],
   "source": [
    "g.find(\"(a)-[e1]->(b)\") \\\n",
    ".filter(\"a.id = 5307\") \\\n",
    ".select(\"b.id\", \"b.NAME\") \\\n",
    ".show()"
   ]
  },
  {
   "cell_type": "code",
   "execution_count": 8,
   "id": "8dca85e5",
   "metadata": {},
   "outputs": [
    {
     "name": "stderr",
     "output_type": "stream",
     "text": [
      "[Stage 37:===============================================>        (63 + 1) / 75]\r"
     ]
    },
    {
     "name": "stdout",
     "output_type": "stream",
     "text": [
      "+----+--------+\n",
      "|  id|    NAME|\n",
      "+----+--------+\n",
      "|2664|    Edna|\n",
      "|3953|Gottlieb|\n",
      "|4704|   Ammon|\n",
      "| 829|    Cato|\n",
      "+----+--------+\n",
      "\n"
     ]
    },
    {
     "name": "stderr",
     "output_type": "stream",
     "text": [
      "                                                                                \r"
     ]
    }
   ],
   "source": [
    "g.find(\"(a)-[e1]->(b); (b)-[e2]->(c); !(a)-[]->(c)\") \\\n",
    ".filter(\"a.id = 1090\") \\\n",
    ".select(\"c.id\", \"c.NAME\") \\\n",
    ".show()"
   ]
  },
  {
   "cell_type": "code",
   "execution_count": 13,
   "id": "9800d4c3",
   "metadata": {},
   "outputs": [
    {
     "name": "stderr",
     "output_type": "stream",
     "text": [
      "[Stage 49:>                                                         (0 + 1) / 1]\r"
     ]
    },
    {
     "name": "stdout",
     "output_type": "stream",
     "text": [
      "+----+--------+\n",
      "|  id|inDegree|\n",
      "+----+--------+\n",
      "|3210|      29|\n",
      "|2069|      53|\n",
      "|3959|      26|\n",
      "|4937|       3|\n",
      "|3606|      28|\n",
      "|5925|      28|\n",
      "|5325|       4|\n",
      "|1572|       8|\n",
      "|2088|      10|\n",
      "|2904|       8|\n",
      "|6194|       4|\n",
      "|1159|       2|\n",
      "| 691|       3|\n",
      "| 829|      11|\n",
      "| 675|       1|\n",
      "|6240|       2|\n",
      "|4032|       2|\n",
      "|1512|       1|\n",
      "|2294|       3|\n",
      "|2162|       8|\n",
      "+----+--------+\n",
      "only showing top 20 rows\n",
      "\n"
     ]
    },
    {
     "name": "stderr",
     "output_type": "stream",
     "text": [
      "                                                                                \r"
     ]
    }
   ],
   "source": [
    "g.inDegrees.show()"
   ]
  },
  {
   "cell_type": "code",
   "execution_count": null,
   "id": "08612c97",
   "metadata": {},
   "outputs": [],
   "source": []
  }
 ],
 "metadata": {
  "kernelspec": {
   "display_name": "Python 3 (ipykernel)",
   "language": "python",
   "name": "python3"
  },
  "language_info": {
   "codemirror_mode": {
    "name": "ipython",
    "version": 3
   },
   "file_extension": ".py",
   "mimetype": "text/x-python",
   "name": "python",
   "nbconvert_exporter": "python",
   "pygments_lexer": "ipython3",
   "version": "3.9.6"
  }
 },
 "nbformat": 4,
 "nbformat_minor": 5
}
