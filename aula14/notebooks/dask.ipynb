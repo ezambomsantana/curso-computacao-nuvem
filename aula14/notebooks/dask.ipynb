{
 "cells": [
  {
   "cell_type": "code",
   "execution_count": 2,
   "id": "f47cf140-f128-4c4e-881d-652389dd8ed5",
   "metadata": {},
   "outputs": [],
   "source": [
    "from dask.distributed import Client\n",
    "\n",
    "client = Client()\n"
   ]
  },
  {
   "cell_type": "code",
   "execution_count": 113,
   "id": "59f119c7-6695-4c0e-902b-6e39632d1c0f",
   "metadata": {},
   "outputs": [
    {
     "name": "stdout",
     "output_type": "stream",
     "text": [
      "CPU times: user 435 ms, sys: 16.6 ms, total: 452 ms\n",
      "Wall time: 470 ms\n"
     ]
    },
    {
     "data": {
      "text/html": [
       "<div><strong>Dask DataFrame Structure:</strong></div>\n",
       "<div>\n",
       "<style scoped>\n",
       "    .dataframe tbody tr th:only-of-type {\n",
       "        vertical-align: middle;\n",
       "    }\n",
       "\n",
       "    .dataframe tbody tr th {\n",
       "        vertical-align: top;\n",
       "    }\n",
       "\n",
       "    .dataframe thead th {\n",
       "        text-align: right;\n",
       "    }\n",
       "</style>\n",
       "<table border=\"1\" class=\"dataframe\">\n",
       "  <thead>\n",
       "    <tr style=\"text-align: right;\">\n",
       "      <th></th>\n",
       "      <th>MONTH</th>\n",
       "      <th>DAY_OF_WEEK</th>\n",
       "      <th>DEP_DEL15</th>\n",
       "      <th>DISTANCE_GROUP</th>\n",
       "      <th>DEP_BLOCK</th>\n",
       "      <th>SEGMENT_NUMBER</th>\n",
       "      <th>CONCURRENT_FLIGHTS</th>\n",
       "      <th>NUMBER_OF_SEATS</th>\n",
       "      <th>CARRIER_NAME</th>\n",
       "      <th>AIRPORT_FLIGHTS_MONTH</th>\n",
       "      <th>AIRLINE_FLIGHTS_MONTH</th>\n",
       "      <th>AIRLINE_AIRPORT_FLIGHTS_MONTH</th>\n",
       "      <th>AVG_MONTHLY_PASS_AIRPORT</th>\n",
       "      <th>AVG_MONTHLY_PASS_AIRLINE</th>\n",
       "      <th>FLT_ATTENDANTS_PER_PASS</th>\n",
       "      <th>GROUND_SERV_PER_PASS</th>\n",
       "      <th>PLANE_AGE</th>\n",
       "      <th>DEPARTING_AIRPORT</th>\n",
       "      <th>LATITUDE</th>\n",
       "      <th>LONGITUDE</th>\n",
       "      <th>PREVIOUS_AIRPORT</th>\n",
       "      <th>PRCP</th>\n",
       "      <th>SNOW</th>\n",
       "      <th>SNWD</th>\n",
       "      <th>TMAX</th>\n",
       "      <th>AWND</th>\n",
       "    </tr>\n",
       "    <tr>\n",
       "      <th>npartitions=2</th>\n",
       "      <th></th>\n",
       "      <th></th>\n",
       "      <th></th>\n",
       "      <th></th>\n",
       "      <th></th>\n",
       "      <th></th>\n",
       "      <th></th>\n",
       "      <th></th>\n",
       "      <th></th>\n",
       "      <th></th>\n",
       "      <th></th>\n",
       "      <th></th>\n",
       "      <th></th>\n",
       "      <th></th>\n",
       "      <th></th>\n",
       "      <th></th>\n",
       "      <th></th>\n",
       "      <th></th>\n",
       "      <th></th>\n",
       "      <th></th>\n",
       "      <th></th>\n",
       "      <th></th>\n",
       "      <th></th>\n",
       "      <th></th>\n",
       "      <th></th>\n",
       "      <th></th>\n",
       "    </tr>\n",
       "  </thead>\n",
       "  <tbody>\n",
       "    <tr>\n",
       "      <th></th>\n",
       "      <td>int64</td>\n",
       "      <td>int64</td>\n",
       "      <td>int64</td>\n",
       "      <td>int64</td>\n",
       "      <td>object</td>\n",
       "      <td>int64</td>\n",
       "      <td>int64</td>\n",
       "      <td>int64</td>\n",
       "      <td>object</td>\n",
       "      <td>int64</td>\n",
       "      <td>int64</td>\n",
       "      <td>int64</td>\n",
       "      <td>int64</td>\n",
       "      <td>int64</td>\n",
       "      <td>float64</td>\n",
       "      <td>float64</td>\n",
       "      <td>int64</td>\n",
       "      <td>object</td>\n",
       "      <td>float64</td>\n",
       "      <td>float64</td>\n",
       "      <td>object</td>\n",
       "      <td>float64</td>\n",
       "      <td>float64</td>\n",
       "      <td>float64</td>\n",
       "      <td>float64</td>\n",
       "      <td>float64</td>\n",
       "    </tr>\n",
       "    <tr>\n",
       "      <th></th>\n",
       "      <td>...</td>\n",
       "      <td>...</td>\n",
       "      <td>...</td>\n",
       "      <td>...</td>\n",
       "      <td>...</td>\n",
       "      <td>...</td>\n",
       "      <td>...</td>\n",
       "      <td>...</td>\n",
       "      <td>...</td>\n",
       "      <td>...</td>\n",
       "      <td>...</td>\n",
       "      <td>...</td>\n",
       "      <td>...</td>\n",
       "      <td>...</td>\n",
       "      <td>...</td>\n",
       "      <td>...</td>\n",
       "      <td>...</td>\n",
       "      <td>...</td>\n",
       "      <td>...</td>\n",
       "      <td>...</td>\n",
       "      <td>...</td>\n",
       "      <td>...</td>\n",
       "      <td>...</td>\n",
       "      <td>...</td>\n",
       "      <td>...</td>\n",
       "      <td>...</td>\n",
       "    </tr>\n",
       "    <tr>\n",
       "      <th></th>\n",
       "      <td>...</td>\n",
       "      <td>...</td>\n",
       "      <td>...</td>\n",
       "      <td>...</td>\n",
       "      <td>...</td>\n",
       "      <td>...</td>\n",
       "      <td>...</td>\n",
       "      <td>...</td>\n",
       "      <td>...</td>\n",
       "      <td>...</td>\n",
       "      <td>...</td>\n",
       "      <td>...</td>\n",
       "      <td>...</td>\n",
       "      <td>...</td>\n",
       "      <td>...</td>\n",
       "      <td>...</td>\n",
       "      <td>...</td>\n",
       "      <td>...</td>\n",
       "      <td>...</td>\n",
       "      <td>...</td>\n",
       "      <td>...</td>\n",
       "      <td>...</td>\n",
       "      <td>...</td>\n",
       "      <td>...</td>\n",
       "      <td>...</td>\n",
       "      <td>...</td>\n",
       "    </tr>\n",
       "  </tbody>\n",
       "</table>\n",
       "</div>\n",
       "<div>Dask Name: read-csv, 2 tasks</div>"
      ],
      "text/plain": [
       "Dask DataFrame Structure:\n",
       "               MONTH DAY_OF_WEEK DEP_DEL15 DISTANCE_GROUP DEP_BLOCK SEGMENT_NUMBER CONCURRENT_FLIGHTS NUMBER_OF_SEATS CARRIER_NAME AIRPORT_FLIGHTS_MONTH AIRLINE_FLIGHTS_MONTH AIRLINE_AIRPORT_FLIGHTS_MONTH AVG_MONTHLY_PASS_AIRPORT AVG_MONTHLY_PASS_AIRLINE FLT_ATTENDANTS_PER_PASS GROUND_SERV_PER_PASS PLANE_AGE DEPARTING_AIRPORT LATITUDE LONGITUDE PREVIOUS_AIRPORT     PRCP     SNOW     SNWD     TMAX     AWND\n",
       "npartitions=2                                                                                                                                                                                                                                                                                                                                                                                                           \n",
       "               int64       int64     int64          int64    object          int64              int64           int64       object                 int64                 int64                         int64                    int64                    int64                 float64              float64     int64            object  float64   float64           object  float64  float64  float64  float64  float64\n",
       "                 ...         ...       ...            ...       ...            ...                ...             ...          ...                   ...                   ...                           ...                      ...                      ...                     ...                  ...       ...               ...      ...       ...              ...      ...      ...      ...      ...      ...\n",
       "                 ...         ...       ...            ...       ...            ...                ...             ...          ...                   ...                   ...                           ...                      ...                      ...                     ...                  ...       ...               ...      ...       ...              ...      ...      ...      ...      ...      ...\n",
       "Dask Name: read-csv, 2 tasks"
      ]
     },
     "execution_count": 113,
     "metadata": {},
     "output_type": "execute_result"
    }
   ],
   "source": [
    "\n",
    "%%time\n",
    "import dask.dataframe as dd\n",
    "\n",
    "df = dd.read_csv('/tmp/train_test_small.csv')\n",
    "df\n"
   ]
  },
  {
   "cell_type": "code",
   "execution_count": 123,
   "id": "dd671f71-368f-450b-85e3-a36591af0ace",
   "metadata": {},
   "outputs": [],
   "source": [
    "df = df.persist()"
   ]
  },
  {
   "cell_type": "code",
   "execution_count": 144,
   "id": "0465450f-b844-445c-b0bf-af8a3fdd3f2d",
   "metadata": {},
   "outputs": [
    {
     "name": "stdout",
     "output_type": "stream",
     "text": [
      "CPU times: user 6.79 ms, sys: 573 µs, total: 7.37 ms\n",
      "Wall time: 7.63 ms\n"
     ]
    }
   ],
   "source": [
    "%%time\n",
    "df_delay = df[df['PRCP'] > 0]\n",
    "df_delay = df_delay[df_delay['AIRLINE_FLIGHTS_MONTH'] > 1000]\n",
    "df_delay = df_delay[df_delay['NUMBER_OF_SEATS'] > 100]\n",
    "df_delay = df_delay[df_delay['CONCURRENT_FLIGHTS'] > 5]\n",
    "df_delay = df_delay[df_delay['DEP_DEL15'] == 1]"
   ]
  },
  {
   "cell_type": "code",
   "execution_count": 152,
   "id": "a1907c50-96bc-41f0-8138-65eea267343e",
   "metadata": {},
   "outputs": [
    {
     "name": "stdout",
     "output_type": "stream",
     "text": [
      "CPU times: user 37.3 ms, sys: 15.4 ms, total: 52.8 ms\n",
      "Wall time: 159 ms\n"
     ]
    },
    {
     "data": {
      "text/html": [
       "<div>\n",
       "<style scoped>\n",
       "    .dataframe tbody tr th:only-of-type {\n",
       "        vertical-align: middle;\n",
       "    }\n",
       "\n",
       "    .dataframe tbody tr th {\n",
       "        vertical-align: top;\n",
       "    }\n",
       "\n",
       "    .dataframe thead th {\n",
       "        text-align: right;\n",
       "    }\n",
       "</style>\n",
       "<table border=\"1\" class=\"dataframe\">\n",
       "  <thead>\n",
       "    <tr style=\"text-align: right;\">\n",
       "      <th></th>\n",
       "      <th>MONTH</th>\n",
       "      <th>DAY_OF_WEEK</th>\n",
       "      <th>DEP_DEL15</th>\n",
       "      <th>DISTANCE_GROUP</th>\n",
       "      <th>DEP_BLOCK</th>\n",
       "      <th>SEGMENT_NUMBER</th>\n",
       "      <th>CONCURRENT_FLIGHTS</th>\n",
       "      <th>NUMBER_OF_SEATS</th>\n",
       "      <th>CARRIER_NAME</th>\n",
       "      <th>AIRPORT_FLIGHTS_MONTH</th>\n",
       "      <th>...</th>\n",
       "      <th>PLANE_AGE</th>\n",
       "      <th>DEPARTING_AIRPORT</th>\n",
       "      <th>LATITUDE</th>\n",
       "      <th>LONGITUDE</th>\n",
       "      <th>PREVIOUS_AIRPORT</th>\n",
       "      <th>PRCP</th>\n",
       "      <th>SNOW</th>\n",
       "      <th>SNWD</th>\n",
       "      <th>TMAX</th>\n",
       "      <th>AWND</th>\n",
       "    </tr>\n",
       "  </thead>\n",
       "  <tbody>\n",
       "    <tr>\n",
       "      <th>864</th>\n",
       "      <td>1</td>\n",
       "      <td>3</td>\n",
       "      <td>1</td>\n",
       "      <td>3</td>\n",
       "      <td>AFTERNOON</td>\n",
       "      <td>4</td>\n",
       "      <td>15</td>\n",
       "      <td>143</td>\n",
       "      <td>Southwest Airlines Co.</td>\n",
       "      <td>1561</td>\n",
       "      <td>...</td>\n",
       "      <td>15</td>\n",
       "      <td>Boise Air Terminal</td>\n",
       "      <td>43.565</td>\n",
       "      <td>-116.225</td>\n",
       "      <td>Stapleton International</td>\n",
       "      <td>0.01</td>\n",
       "      <td>0.2</td>\n",
       "      <td>0.0</td>\n",
       "      <td>43.0</td>\n",
       "      <td>6.71</td>\n",
       "    </tr>\n",
       "    <tr>\n",
       "      <th>1086</th>\n",
       "      <td>1</td>\n",
       "      <td>5</td>\n",
       "      <td>1</td>\n",
       "      <td>3</td>\n",
       "      <td>EVENING</td>\n",
       "      <td>2</td>\n",
       "      <td>36</td>\n",
       "      <td>142</td>\n",
       "      <td>United Air Lines Inc.</td>\n",
       "      <td>4308</td>\n",
       "      <td>...</td>\n",
       "      <td>25</td>\n",
       "      <td>Kansas City International</td>\n",
       "      <td>39.298</td>\n",
       "      <td>-94.714</td>\n",
       "      <td>Stapleton International</td>\n",
       "      <td>0.62</td>\n",
       "      <td>2.1</td>\n",
       "      <td>0.0</td>\n",
       "      <td>39.0</td>\n",
       "      <td>9.17</td>\n",
       "    </tr>\n",
       "    <tr>\n",
       "      <th>1091</th>\n",
       "      <td>1</td>\n",
       "      <td>5</td>\n",
       "      <td>1</td>\n",
       "      <td>4</td>\n",
       "      <td>EVENING</td>\n",
       "      <td>2</td>\n",
       "      <td>36</td>\n",
       "      <td>132</td>\n",
       "      <td>Delta Air Lines Inc.</td>\n",
       "      <td>4308</td>\n",
       "      <td>...</td>\n",
       "      <td>17</td>\n",
       "      <td>Kansas City International</td>\n",
       "      <td>39.298</td>\n",
       "      <td>-94.714</td>\n",
       "      <td>Salt Lake City International</td>\n",
       "      <td>0.62</td>\n",
       "      <td>2.1</td>\n",
       "      <td>0.0</td>\n",
       "      <td>39.0</td>\n",
       "      <td>9.17</td>\n",
       "    </tr>\n",
       "    <tr>\n",
       "      <th>1128</th>\n",
       "      <td>1</td>\n",
       "      <td>5</td>\n",
       "      <td>1</td>\n",
       "      <td>5</td>\n",
       "      <td>AFTERNOON</td>\n",
       "      <td>3</td>\n",
       "      <td>35</td>\n",
       "      <td>143</td>\n",
       "      <td>Southwest Airlines Co.</td>\n",
       "      <td>4308</td>\n",
       "      <td>...</td>\n",
       "      <td>13</td>\n",
       "      <td>Kansas City International</td>\n",
       "      <td>39.298</td>\n",
       "      <td>-94.714</td>\n",
       "      <td>LaGuardia</td>\n",
       "      <td>0.62</td>\n",
       "      <td>2.1</td>\n",
       "      <td>0.0</td>\n",
       "      <td>39.0</td>\n",
       "      <td>9.17</td>\n",
       "    </tr>\n",
       "    <tr>\n",
       "      <th>1131</th>\n",
       "      <td>1</td>\n",
       "      <td>5</td>\n",
       "      <td>1</td>\n",
       "      <td>3</td>\n",
       "      <td>EVENING</td>\n",
       "      <td>3</td>\n",
       "      <td>36</td>\n",
       "      <td>175</td>\n",
       "      <td>Southwest Airlines Co.</td>\n",
       "      <td>4308</td>\n",
       "      <td>...</td>\n",
       "      <td>3</td>\n",
       "      <td>Kansas City International</td>\n",
       "      <td>39.298</td>\n",
       "      <td>-94.714</td>\n",
       "      <td>General Mitchell Field</td>\n",
       "      <td>0.62</td>\n",
       "      <td>2.1</td>\n",
       "      <td>0.0</td>\n",
       "      <td>39.0</td>\n",
       "      <td>9.17</td>\n",
       "    </tr>\n",
       "    <tr>\n",
       "      <th>...</th>\n",
       "      <td>...</td>\n",
       "      <td>...</td>\n",
       "      <td>...</td>\n",
       "      <td>...</td>\n",
       "      <td>...</td>\n",
       "      <td>...</td>\n",
       "      <td>...</td>\n",
       "      <td>...</td>\n",
       "      <td>...</td>\n",
       "      <td>...</td>\n",
       "      <td>...</td>\n",
       "      <td>...</td>\n",
       "      <td>...</td>\n",
       "      <td>...</td>\n",
       "      <td>...</td>\n",
       "      <td>...</td>\n",
       "      <td>...</td>\n",
       "      <td>...</td>\n",
       "      <td>...</td>\n",
       "      <td>...</td>\n",
       "      <td>...</td>\n",
       "    </tr>\n",
       "    <tr>\n",
       "      <th>193924</th>\n",
       "      <td>1</td>\n",
       "      <td>3</td>\n",
       "      <td>1</td>\n",
       "      <td>1</td>\n",
       "      <td>AFTERNOON</td>\n",
       "      <td>8</td>\n",
       "      <td>14</td>\n",
       "      <td>123</td>\n",
       "      <td>Hawaiian Airlines Inc.</td>\n",
       "      <td>1134</td>\n",
       "      <td>...</td>\n",
       "      <td>18</td>\n",
       "      <td>Lihue Airport</td>\n",
       "      <td>21.979</td>\n",
       "      <td>-159.346</td>\n",
       "      <td>Honolulu International</td>\n",
       "      <td>0.07</td>\n",
       "      <td>0.0</td>\n",
       "      <td>0.0</td>\n",
       "      <td>78.0</td>\n",
       "      <td>22.59</td>\n",
       "    </tr>\n",
       "    <tr>\n",
       "      <th>194085</th>\n",
       "      <td>1</td>\n",
       "      <td>7</td>\n",
       "      <td>1</td>\n",
       "      <td>1</td>\n",
       "      <td>EVENING</td>\n",
       "      <td>12</td>\n",
       "      <td>6</td>\n",
       "      <td>123</td>\n",
       "      <td>Hawaiian Airlines Inc.</td>\n",
       "      <td>1134</td>\n",
       "      <td>...</td>\n",
       "      <td>18</td>\n",
       "      <td>Lihue Airport</td>\n",
       "      <td>21.979</td>\n",
       "      <td>-159.346</td>\n",
       "      <td>Honolulu International</td>\n",
       "      <td>0.01</td>\n",
       "      <td>0.0</td>\n",
       "      <td>0.0</td>\n",
       "      <td>77.0</td>\n",
       "      <td>17.67</td>\n",
       "    </tr>\n",
       "    <tr>\n",
       "      <th>195526</th>\n",
       "      <td>1</td>\n",
       "      <td>1</td>\n",
       "      <td>1</td>\n",
       "      <td>11</td>\n",
       "      <td>LATE_NIGHT</td>\n",
       "      <td>4</td>\n",
       "      <td>8</td>\n",
       "      <td>199</td>\n",
       "      <td>Delta Air Lines Inc.</td>\n",
       "      <td>1191</td>\n",
       "      <td>...</td>\n",
       "      <td>23</td>\n",
       "      <td>Keahole</td>\n",
       "      <td>19.739</td>\n",
       "      <td>-156.046</td>\n",
       "      <td>Seattle International</td>\n",
       "      <td>0.01</td>\n",
       "      <td>0.0</td>\n",
       "      <td>0.0</td>\n",
       "      <td>81.0</td>\n",
       "      <td>5.82</td>\n",
       "    </tr>\n",
       "    <tr>\n",
       "      <th>195813</th>\n",
       "      <td>1</td>\n",
       "      <td>2</td>\n",
       "      <td>1</td>\n",
       "      <td>10</td>\n",
       "      <td>AFTERNOON</td>\n",
       "      <td>2</td>\n",
       "      <td>25</td>\n",
       "      <td>179</td>\n",
       "      <td>United Air Lines Inc.</td>\n",
       "      <td>2092</td>\n",
       "      <td>...</td>\n",
       "      <td>1</td>\n",
       "      <td>Kahului Airport</td>\n",
       "      <td>20.901</td>\n",
       "      <td>-156.434</td>\n",
       "      <td>Los Angeles International</td>\n",
       "      <td>0.01</td>\n",
       "      <td>0.0</td>\n",
       "      <td>0.0</td>\n",
       "      <td>79.0</td>\n",
       "      <td>11.86</td>\n",
       "    </tr>\n",
       "    <tr>\n",
       "      <th>195815</th>\n",
       "      <td>1</td>\n",
       "      <td>2</td>\n",
       "      <td>1</td>\n",
       "      <td>10</td>\n",
       "      <td>AFTERNOON</td>\n",
       "      <td>2</td>\n",
       "      <td>25</td>\n",
       "      <td>169</td>\n",
       "      <td>United Air Lines Inc.</td>\n",
       "      <td>2092</td>\n",
       "      <td>...</td>\n",
       "      <td>25</td>\n",
       "      <td>Kahului Airport</td>\n",
       "      <td>20.901</td>\n",
       "      <td>-156.434</td>\n",
       "      <td>San Francisco International</td>\n",
       "      <td>0.01</td>\n",
       "      <td>0.0</td>\n",
       "      <td>0.0</td>\n",
       "      <td>79.0</td>\n",
       "      <td>11.86</td>\n",
       "    </tr>\n",
       "  </tbody>\n",
       "</table>\n",
       "<p>22149 rows × 26 columns</p>\n",
       "</div>"
      ],
      "text/plain": [
       "        MONTH  DAY_OF_WEEK  DEP_DEL15  DISTANCE_GROUP   DEP_BLOCK  \\\n",
       "864         1            3          1               3   AFTERNOON   \n",
       "1086        1            5          1               3     EVENING   \n",
       "1091        1            5          1               4     EVENING   \n",
       "1128        1            5          1               5   AFTERNOON   \n",
       "1131        1            5          1               3     EVENING   \n",
       "...       ...          ...        ...             ...         ...   \n",
       "193924      1            3          1               1   AFTERNOON   \n",
       "194085      1            7          1               1     EVENING   \n",
       "195526      1            1          1              11  LATE_NIGHT   \n",
       "195813      1            2          1              10   AFTERNOON   \n",
       "195815      1            2          1              10   AFTERNOON   \n",
       "\n",
       "        SEGMENT_NUMBER  CONCURRENT_FLIGHTS  NUMBER_OF_SEATS  \\\n",
       "864                  4                  15              143   \n",
       "1086                 2                  36              142   \n",
       "1091                 2                  36              132   \n",
       "1128                 3                  35              143   \n",
       "1131                 3                  36              175   \n",
       "...                ...                 ...              ...   \n",
       "193924               8                  14              123   \n",
       "194085              12                   6              123   \n",
       "195526               4                   8              199   \n",
       "195813               2                  25              179   \n",
       "195815               2                  25              169   \n",
       "\n",
       "                  CARRIER_NAME  AIRPORT_FLIGHTS_MONTH  ...  PLANE_AGE  \\\n",
       "864     Southwest Airlines Co.                   1561  ...         15   \n",
       "1086     United Air Lines Inc.                   4308  ...         25   \n",
       "1091      Delta Air Lines Inc.                   4308  ...         17   \n",
       "1128    Southwest Airlines Co.                   4308  ...         13   \n",
       "1131    Southwest Airlines Co.                   4308  ...          3   \n",
       "...                        ...                    ...  ...        ...   \n",
       "193924  Hawaiian Airlines Inc.                   1134  ...         18   \n",
       "194085  Hawaiian Airlines Inc.                   1134  ...         18   \n",
       "195526    Delta Air Lines Inc.                   1191  ...         23   \n",
       "195813   United Air Lines Inc.                   2092  ...          1   \n",
       "195815   United Air Lines Inc.                   2092  ...         25   \n",
       "\n",
       "                DEPARTING_AIRPORT  LATITUDE  LONGITUDE  \\\n",
       "864            Boise Air Terminal    43.565   -116.225   \n",
       "1086    Kansas City International    39.298    -94.714   \n",
       "1091    Kansas City International    39.298    -94.714   \n",
       "1128    Kansas City International    39.298    -94.714   \n",
       "1131    Kansas City International    39.298    -94.714   \n",
       "...                           ...       ...        ...   \n",
       "193924              Lihue Airport    21.979   -159.346   \n",
       "194085              Lihue Airport    21.979   -159.346   \n",
       "195526                    Keahole    19.739   -156.046   \n",
       "195813            Kahului Airport    20.901   -156.434   \n",
       "195815            Kahului Airport    20.901   -156.434   \n",
       "\n",
       "                    PREVIOUS_AIRPORT  PRCP  SNOW SNWD  TMAX   AWND  \n",
       "864          Stapleton International  0.01   0.2  0.0  43.0   6.71  \n",
       "1086         Stapleton International  0.62   2.1  0.0  39.0   9.17  \n",
       "1091    Salt Lake City International  0.62   2.1  0.0  39.0   9.17  \n",
       "1128                       LaGuardia  0.62   2.1  0.0  39.0   9.17  \n",
       "1131          General Mitchell Field  0.62   2.1  0.0  39.0   9.17  \n",
       "...                              ...   ...   ...  ...   ...    ...  \n",
       "193924        Honolulu International  0.07   0.0  0.0  78.0  22.59  \n",
       "194085        Honolulu International  0.01   0.0  0.0  77.0  17.67  \n",
       "195526         Seattle International  0.01   0.0  0.0  81.0   5.82  \n",
       "195813     Los Angeles International  0.01   0.0  0.0  79.0  11.86  \n",
       "195815   San Francisco International  0.01   0.0  0.0  79.0  11.86  \n",
       "\n",
       "[22149 rows x 26 columns]"
      ]
     },
     "execution_count": 152,
     "metadata": {},
     "output_type": "execute_result"
    }
   ],
   "source": [
    "%%time\n",
    "\n",
    "df_delay.compute()"
   ]
  },
  {
   "cell_type": "code",
   "execution_count": 148,
   "id": "5c1ada2a-73a6-49fc-9cd5-a4ab42f6002a",
   "metadata": {},
   "outputs": [
    {
     "ename": "AttributeError",
     "evalue": "'DataFrame' object has no attribute 'visulize'",
     "output_type": "error",
     "traceback": [
      "\u001b[0;31m---------------------------------------------------------------------------\u001b[0m",
      "\u001b[0;31mAttributeError\u001b[0m                            Traceback (most recent call last)",
      "\u001b[0;32m/var/tmp/ipykernel_57/2299122655.py\u001b[0m in \u001b[0;36m<module>\u001b[0;34m\u001b[0m\n\u001b[0;32m----> 1\u001b[0;31m \u001b[0mdf_delay\u001b[0m\u001b[0;34m.\u001b[0m\u001b[0mhead\u001b[0m\u001b[0;34m(\u001b[0m\u001b[0;34m)\u001b[0m\u001b[0;34m.\u001b[0m\u001b[0mvisulize\u001b[0m\u001b[0;34m(\u001b[0m\u001b[0;34m)\u001b[0m\u001b[0;34m\u001b[0m\u001b[0;34m\u001b[0m\u001b[0m\n\u001b[0m",
      "\u001b[0;32m/opt/conda/lib/python3.8/site-packages/pandas/core/generic.py\u001b[0m in \u001b[0;36m__getattr__\u001b[0;34m(self, name)\u001b[0m\n\u001b[1;32m   5476\u001b[0m         ):\n\u001b[1;32m   5477\u001b[0m             \u001b[0;32mreturn\u001b[0m \u001b[0mself\u001b[0m\u001b[0;34m[\u001b[0m\u001b[0mname\u001b[0m\u001b[0;34m]\u001b[0m\u001b[0;34m\u001b[0m\u001b[0;34m\u001b[0m\u001b[0m\n\u001b[0;32m-> 5478\u001b[0;31m         \u001b[0;32mreturn\u001b[0m \u001b[0mobject\u001b[0m\u001b[0;34m.\u001b[0m\u001b[0m__getattribute__\u001b[0m\u001b[0;34m(\u001b[0m\u001b[0mself\u001b[0m\u001b[0;34m,\u001b[0m \u001b[0mname\u001b[0m\u001b[0;34m)\u001b[0m\u001b[0;34m\u001b[0m\u001b[0;34m\u001b[0m\u001b[0m\n\u001b[0m\u001b[1;32m   5479\u001b[0m \u001b[0;34m\u001b[0m\u001b[0m\n\u001b[1;32m   5480\u001b[0m     \u001b[0;32mdef\u001b[0m \u001b[0m__setattr__\u001b[0m\u001b[0;34m(\u001b[0m\u001b[0mself\u001b[0m\u001b[0;34m,\u001b[0m \u001b[0mname\u001b[0m\u001b[0;34m:\u001b[0m \u001b[0mstr\u001b[0m\u001b[0;34m,\u001b[0m \u001b[0mvalue\u001b[0m\u001b[0;34m)\u001b[0m \u001b[0;34m->\u001b[0m \u001b[0;32mNone\u001b[0m\u001b[0;34m:\u001b[0m\u001b[0;34m\u001b[0m\u001b[0;34m\u001b[0m\u001b[0m\n",
      "\u001b[0;31mAttributeError\u001b[0m: 'DataFrame' object has no attribute 'visulize'"
     ]
    }
   ],
   "source": [
    "df_delay.head().visulize()"
   ]
  },
  {
   "cell_type": "code",
   "execution_count": 146,
   "id": "679d7fa2-53f1-4afe-87be-91e00439023f",
   "metadata": {},
   "outputs": [
    {
     "ename": "NameError",
     "evalue": "name 'grid_search' is not defined",
     "output_type": "error",
     "traceback": [
      "\u001b[0;31m---------------------------------------------------------------------------\u001b[0m",
      "\u001b[0;31mNameError\u001b[0m                                 Traceback (most recent call last)",
      "\u001b[0;32m/var/tmp/ipykernel_57/3915330846.py\u001b[0m in \u001b[0;36m<module>\u001b[0;34m\u001b[0m\n\u001b[1;32m      2\u001b[0m \u001b[0;34m\u001b[0m\u001b[0m\n\u001b[1;32m      3\u001b[0m \u001b[0;32mwith\u001b[0m \u001b[0mjoblib\u001b[0m\u001b[0;34m.\u001b[0m\u001b[0mparallel_backend\u001b[0m\u001b[0;34m(\u001b[0m\u001b[0;34m'dask'\u001b[0m\u001b[0;34m)\u001b[0m\u001b[0;34m:\u001b[0m\u001b[0;34m\u001b[0m\u001b[0;34m\u001b[0m\u001b[0m\n\u001b[0;32m----> 4\u001b[0;31m     \u001b[0mgrid_search\u001b[0m\u001b[0;34m.\u001b[0m\u001b[0mfit\u001b[0m\u001b[0;34m(\u001b[0m\u001b[0mX\u001b[0m\u001b[0;34m,\u001b[0m \u001b[0my\u001b[0m\u001b[0;34m)\u001b[0m\u001b[0;34m\u001b[0m\u001b[0;34m\u001b[0m\u001b[0m\n\u001b[0m",
      "\u001b[0;31mNameError\u001b[0m: name 'grid_search' is not defined"
     ]
    }
   ],
   "source": [
    "import joblib\n",
    "\n",
    "with joblib.parallel_backend('dask'):\n",
    "    grid_search.fit(X, y)"
   ]
  },
  {
   "cell_type": "code",
   "execution_count": 142,
   "id": "3d3c823a-1dfa-4a6c-aaed-1fad5100e606",
   "metadata": {},
   "outputs": [
    {
     "ename": "NameError",
     "evalue": "name 'grid_search' is not defined",
     "output_type": "error",
     "traceback": [
      "\u001b[0;31m---------------------------------------------------------------------------\u001b[0m",
      "\u001b[0;31mNameError\u001b[0m                                 Traceback (most recent call last)",
      "\u001b[0;32m/var/tmp/ipykernel_57/3915330846.py\u001b[0m in \u001b[0;36m<module>\u001b[0;34m\u001b[0m\n\u001b[1;32m      2\u001b[0m \u001b[0;34m\u001b[0m\u001b[0m\n\u001b[1;32m      3\u001b[0m \u001b[0;32mwith\u001b[0m \u001b[0mjoblib\u001b[0m\u001b[0;34m.\u001b[0m\u001b[0mparallel_backend\u001b[0m\u001b[0;34m(\u001b[0m\u001b[0;34m'dask'\u001b[0m\u001b[0;34m)\u001b[0m\u001b[0;34m:\u001b[0m\u001b[0;34m\u001b[0m\u001b[0;34m\u001b[0m\u001b[0m\n\u001b[0;32m----> 4\u001b[0;31m     \u001b[0mgrid_search\u001b[0m\u001b[0;34m.\u001b[0m\u001b[0mfit\u001b[0m\u001b[0;34m(\u001b[0m\u001b[0mX\u001b[0m\u001b[0;34m,\u001b[0m \u001b[0my\u001b[0m\u001b[0;34m)\u001b[0m\u001b[0;34m\u001b[0m\u001b[0;34m\u001b[0m\u001b[0m\n\u001b[0m",
      "\u001b[0;31mNameError\u001b[0m: name 'grid_search' is not defined"
     ]
    }
   ],
   "source": [
    "import joblib\n",
    "\n",
    "with joblib.parallel_backend('dask'):\n",
    "    grid_search.fit(X, y)"
   ]
  },
  {
   "cell_type": "code",
   "execution_count": 4,
   "id": "2b90997b-467b-49fc-95cc-f8bf4f84cdbd",
   "metadata": {},
   "outputs": [
    {
     "name": "stdout",
     "output_type": "stream",
     "text": [
      "CPU times: user 17.9 ms, sys: 15.1 ms, total: 33 ms\n",
      "Wall time: 2.49 s\n"
     ]
    },
    {
     "data": {
      "text/html": [
       "<div>\n",
       "<style scoped>\n",
       "    .dataframe tbody tr th:only-of-type {\n",
       "        vertical-align: middle;\n",
       "    }\n",
       "\n",
       "    .dataframe tbody tr th {\n",
       "        vertical-align: top;\n",
       "    }\n",
       "\n",
       "    .dataframe thead th {\n",
       "        text-align: right;\n",
       "    }\n",
       "</style>\n",
       "<table border=\"1\" class=\"dataframe\">\n",
       "  <thead>\n",
       "    <tr style=\"text-align: right;\">\n",
       "      <th></th>\n",
       "      <th>MONTH</th>\n",
       "      <th>DAY_OF_WEEK</th>\n",
       "      <th>DEP_DEL15</th>\n",
       "      <th>DISTANCE_GROUP</th>\n",
       "      <th>DEP_BLOCK</th>\n",
       "      <th>SEGMENT_NUMBER</th>\n",
       "      <th>CONCURRENT_FLIGHTS</th>\n",
       "      <th>NUMBER_OF_SEATS</th>\n",
       "      <th>CARRIER_NAME</th>\n",
       "      <th>AIRPORT_FLIGHTS_MONTH</th>\n",
       "      <th>...</th>\n",
       "      <th>PLANE_AGE</th>\n",
       "      <th>DEPARTING_AIRPORT</th>\n",
       "      <th>LATITUDE</th>\n",
       "      <th>LONGITUDE</th>\n",
       "      <th>PREVIOUS_AIRPORT</th>\n",
       "      <th>PRCP</th>\n",
       "      <th>SNOW</th>\n",
       "      <th>SNWD</th>\n",
       "      <th>TMAX</th>\n",
       "      <th>AWND</th>\n",
       "    </tr>\n",
       "  </thead>\n",
       "  <tbody>\n",
       "    <tr>\n",
       "      <th>0</th>\n",
       "      <td>1</td>\n",
       "      <td>7</td>\n",
       "      <td>0</td>\n",
       "      <td>2</td>\n",
       "      <td>MORNING</td>\n",
       "      <td>1</td>\n",
       "      <td>109</td>\n",
       "      <td>143</td>\n",
       "      <td>Southwest Airlines Co.</td>\n",
       "      <td>13056</td>\n",
       "      <td>...</td>\n",
       "      <td>8</td>\n",
       "      <td>McCarran International</td>\n",
       "      <td>36.08</td>\n",
       "      <td>-115.152</td>\n",
       "      <td>NONE</td>\n",
       "      <td>0.0</td>\n",
       "      <td>0.0</td>\n",
       "      <td>0.0</td>\n",
       "      <td>65.0</td>\n",
       "      <td>2.91</td>\n",
       "    </tr>\n",
       "    <tr>\n",
       "      <th>1</th>\n",
       "      <td>1</td>\n",
       "      <td>7</td>\n",
       "      <td>0</td>\n",
       "      <td>7</td>\n",
       "      <td>MORNING</td>\n",
       "      <td>1</td>\n",
       "      <td>109</td>\n",
       "      <td>191</td>\n",
       "      <td>Delta Air Lines Inc.</td>\n",
       "      <td>13056</td>\n",
       "      <td>...</td>\n",
       "      <td>3</td>\n",
       "      <td>McCarran International</td>\n",
       "      <td>36.08</td>\n",
       "      <td>-115.152</td>\n",
       "      <td>NONE</td>\n",
       "      <td>0.0</td>\n",
       "      <td>0.0</td>\n",
       "      <td>0.0</td>\n",
       "      <td>65.0</td>\n",
       "      <td>2.91</td>\n",
       "    </tr>\n",
       "    <tr>\n",
       "      <th>2</th>\n",
       "      <td>1</td>\n",
       "      <td>7</td>\n",
       "      <td>0</td>\n",
       "      <td>7</td>\n",
       "      <td>MORNING</td>\n",
       "      <td>1</td>\n",
       "      <td>109</td>\n",
       "      <td>199</td>\n",
       "      <td>Delta Air Lines Inc.</td>\n",
       "      <td>13056</td>\n",
       "      <td>...</td>\n",
       "      <td>18</td>\n",
       "      <td>McCarran International</td>\n",
       "      <td>36.08</td>\n",
       "      <td>-115.152</td>\n",
       "      <td>NONE</td>\n",
       "      <td>0.0</td>\n",
       "      <td>0.0</td>\n",
       "      <td>0.0</td>\n",
       "      <td>65.0</td>\n",
       "      <td>2.91</td>\n",
       "    </tr>\n",
       "    <tr>\n",
       "      <th>3</th>\n",
       "      <td>1</td>\n",
       "      <td>7</td>\n",
       "      <td>0</td>\n",
       "      <td>9</td>\n",
       "      <td>MORNING</td>\n",
       "      <td>1</td>\n",
       "      <td>109</td>\n",
       "      <td>180</td>\n",
       "      <td>Delta Air Lines Inc.</td>\n",
       "      <td>13056</td>\n",
       "      <td>...</td>\n",
       "      <td>2</td>\n",
       "      <td>McCarran International</td>\n",
       "      <td>36.08</td>\n",
       "      <td>-115.152</td>\n",
       "      <td>NONE</td>\n",
       "      <td>0.0</td>\n",
       "      <td>0.0</td>\n",
       "      <td>0.0</td>\n",
       "      <td>65.0</td>\n",
       "      <td>2.91</td>\n",
       "    </tr>\n",
       "    <tr>\n",
       "      <th>4</th>\n",
       "      <td>1</td>\n",
       "      <td>7</td>\n",
       "      <td>0</td>\n",
       "      <td>7</td>\n",
       "      <td>EARLY_MORNING</td>\n",
       "      <td>1</td>\n",
       "      <td>10</td>\n",
       "      <td>182</td>\n",
       "      <td>Spirit Air Lines</td>\n",
       "      <td>13056</td>\n",
       "      <td>...</td>\n",
       "      <td>1</td>\n",
       "      <td>McCarran International</td>\n",
       "      <td>36.08</td>\n",
       "      <td>-115.152</td>\n",
       "      <td>NONE</td>\n",
       "      <td>0.0</td>\n",
       "      <td>0.0</td>\n",
       "      <td>0.0</td>\n",
       "      <td>65.0</td>\n",
       "      <td>2.91</td>\n",
       "    </tr>\n",
       "  </tbody>\n",
       "</table>\n",
       "<p>5 rows × 26 columns</p>\n",
       "</div>"
      ],
      "text/plain": [
       "   MONTH  DAY_OF_WEEK  DEP_DEL15  DISTANCE_GROUP      DEP_BLOCK  \\\n",
       "0      1            7          0               2        MORNING   \n",
       "1      1            7          0               7        MORNING   \n",
       "2      1            7          0               7        MORNING   \n",
       "3      1            7          0               9        MORNING   \n",
       "4      1            7          0               7  EARLY_MORNING   \n",
       "\n",
       "   SEGMENT_NUMBER  CONCURRENT_FLIGHTS  NUMBER_OF_SEATS  \\\n",
       "0               1                 109              143   \n",
       "1               1                 109              191   \n",
       "2               1                 109              199   \n",
       "3               1                 109              180   \n",
       "4               1                  10              182   \n",
       "\n",
       "             CARRIER_NAME  AIRPORT_FLIGHTS_MONTH  ...  PLANE_AGE  \\\n",
       "0  Southwest Airlines Co.                  13056  ...          8   \n",
       "1    Delta Air Lines Inc.                  13056  ...          3   \n",
       "2    Delta Air Lines Inc.                  13056  ...         18   \n",
       "3    Delta Air Lines Inc.                  13056  ...          2   \n",
       "4        Spirit Air Lines                  13056  ...          1   \n",
       "\n",
       "        DEPARTING_AIRPORT  LATITUDE  LONGITUDE  PREVIOUS_AIRPORT  PRCP  SNOW  \\\n",
       "0  McCarran International     36.08   -115.152              NONE   0.0   0.0   \n",
       "1  McCarran International     36.08   -115.152              NONE   0.0   0.0   \n",
       "2  McCarran International     36.08   -115.152              NONE   0.0   0.0   \n",
       "3  McCarran International     36.08   -115.152              NONE   0.0   0.0   \n",
       "4  McCarran International     36.08   -115.152              NONE   0.0   0.0   \n",
       "\n",
       "  SNWD  TMAX  AWND  \n",
       "0  0.0  65.0  2.91  \n",
       "1  0.0  65.0  2.91  \n",
       "2  0.0  65.0  2.91  \n",
       "3  0.0  65.0  2.91  \n",
       "4  0.0  65.0  2.91  \n",
       "\n",
       "[5 rows x 26 columns]"
      ]
     },
     "execution_count": 4,
     "metadata": {},
     "output_type": "execute_result"
    }
   ],
   "source": [
    "\n",
    "%%time\n",
    "df.head()\n"
   ]
  },
  {
   "cell_type": "code",
   "execution_count": 5,
   "id": "c7f5d7f8-1c7d-4c2e-9ee7-2a9a050ad8eb",
   "metadata": {},
   "outputs": [
    {
     "data": {
      "text/plain": [
       "dd.Scalar<series-..., dtype=int64>"
      ]
     },
     "execution_count": 5,
     "metadata": {},
     "output_type": "execute_result"
    }
   ],
   "source": [
    "\n",
    "findMax = df.NUMBER_OF_SEATS.max()\n",
    "findMax\n"
   ]
  },
  {
   "cell_type": "code",
   "execution_count": 6,
   "id": "353e80cb-1049-40ac-baa0-2b9895d3bc5c",
   "metadata": {},
   "outputs": [
    {
     "name": "stdout",
     "output_type": "stream",
     "text": [
      "CPU times: user 19.9 ms, sys: 5.18 ms, total: 25.1 ms\n",
      "Wall time: 1.26 s\n"
     ]
    },
    {
     "data": {
      "text/plain": [
       "337"
      ]
     },
     "execution_count": 6,
     "metadata": {},
     "output_type": "execute_result"
    }
   ],
   "source": [
    "\n",
    "%%time\n",
    "\n",
    "findMax.compute()\n"
   ]
  },
  {
   "cell_type": "code",
   "execution_count": 11,
   "id": "4c2f5f5f-4355-47a5-aded-ceef12d56bfa",
   "metadata": {},
   "outputs": [
    {
     "data": {
      "image/png": "[encoded data removed]",
      "text/plain": [
       "<IPython.core.display.Image object>"
      ]
     },
     "execution_count": 11,
     "metadata": {},
     "output_type": "execute_result"
    }
   ],
   "source": [
    "\n",
    "findMax.visualize()\n"
   ]
  },
  {
   "cell_type": "code",
   "execution_count": 12,
   "id": "65599de2-22f2-4a3d-85d9-be5640b20b3a",
   "metadata": {},
   "outputs": [
    {
     "data": {
      "text/plain": [
       "Dask Series Structure:\n",
       "npartitions=1\n",
       "    int64\n",
       "      ...\n",
       "Name: NUMBER_OF_SEATS, dtype: int64\n",
       "Dask Name: series-groupby-sum-agg, 5 tasks"
      ]
     },
     "execution_count": 12,
     "metadata": {},
     "output_type": "execute_result"
    }
   ],
   "source": [
    "groupBy = df.groupby(\"CARRIER_NAME\").NUMBER_OF_SEATS.sum()\n",
    "groupBy"
   ]
  },
  {
   "cell_type": "code",
   "execution_count": 13,
   "id": "4285c06a-a1e5-4945-b6cb-4ee98d259ef0",
   "metadata": {},
   "outputs": [
    {
     "name": "stdout",
     "output_type": "stream",
     "text": [
      "CPU times: user 17.7 ms, sys: 9.38 ms, total: 27.1 ms\n",
      "Wall time: 1.54 s\n"
     ]
    },
    {
     "data": {
      "text/plain": [
       "CARRIER_NAME\n",
       "Alaska Airlines Inc.             3005600\n",
       "Allegiant Air                     300699\n",
       "American Airlines Inc.          11834682\n",
       "American Eagle Airlines Inc.     1003322\n",
       "Atlantic Southeast Airlines      1021995\n",
       "Comair Inc.                      1290920\n",
       "Delta Air Lines Inc.            10999721\n",
       "Endeavor Air Inc.                1100036\n",
       "Frontier Airlines Inc.           1638222\n",
       "Hawaiian Airlines Inc.            975477\n",
       "JetBlue Airways                  2861057\n",
       "Mesa Airlines Inc.               1086868\n",
       "Midwest Airline, Inc.            1684937\n",
       "SkyWest Airlines Inc.            2980314\n",
       "Southwest Airlines Co.          15807529\n",
       "Spirit Air Lines                 2571565\n",
       "United Air Lines Inc.            7037661\n",
       "Name: NUMBER_OF_SEATS, dtype: int64"
      ]
     },
     "execution_count": 13,
     "metadata": {},
     "output_type": "execute_result"
    }
   ],
   "source": [
    "%%time\n",
    "\n",
    "groupBy.compute()"
   ]
  },
  {
   "cell_type": "code",
   "execution_count": 14,
   "id": "f1c16e2e-cb0a-4370-8988-a22b1cf22ea5",
   "metadata": {},
   "outputs": [
    {
     "data": {
      "image/png": "[encoded data removed]",
      "text/plain": [
       "<IPython.core.display.Image object>"
      ]
     },
     "execution_count": 14,
     "metadata": {},
     "output_type": "execute_result"
    }
   ],
   "source": [
    "groupBy.visualize()"
   ]
  },
  {
   "cell_type": "code",
   "execution_count": 15,
   "id": "fdb9195f-2f0d-4e0f-a915-b73dfe2469c9",
   "metadata": {},
   "outputs": [],
   "source": [
    "df = df.persist()"
   ]
  },
  {
   "cell_type": "code",
   "execution_count": 16,
   "id": "5c9734cd-2e64-4145-bd5a-8e8400257edc",
   "metadata": {},
   "outputs": [
    {
     "data": {
      "text/plain": [
       "Dask Series Structure:\n",
       "npartitions=1\n",
       "    int64\n",
       "      ...\n",
       "Name: NUMBER_OF_SEATS, dtype: int64\n",
       "Dask Name: series-groupby-sum-agg, 5 tasks"
      ]
     },
     "execution_count": 16,
     "metadata": {},
     "output_type": "execute_result"
    }
   ],
   "source": [
    "groupBy = df.groupby(\"CARRIER_NAME\").NUMBER_OF_SEATS.sum()\n",
    "groupBy"
   ]
  },
  {
   "cell_type": "code",
   "execution_count": 17,
   "id": "0b704010-bb43-4f69-88bd-1d4690e2b7ae",
   "metadata": {},
   "outputs": [
    {
     "name": "stdout",
     "output_type": "stream",
     "text": [
      "CPU times: user 20.9 ms, sys: 6.26 ms, total: 27.1 ms\n",
      "Wall time: 1.46 s\n"
     ]
    },
    {
     "data": {
      "text/plain": [
       "CARRIER_NAME\n",
       "Alaska Airlines Inc.             3005600\n",
       "Allegiant Air                     300699\n",
       "American Airlines Inc.          11834682\n",
       "American Eagle Airlines Inc.     1003322\n",
       "Atlantic Southeast Airlines      1021995\n",
       "Comair Inc.                      1290920\n",
       "Delta Air Lines Inc.            10999721\n",
       "Endeavor Air Inc.                1100036\n",
       "Frontier Airlines Inc.           1638222\n",
       "Hawaiian Airlines Inc.            975477\n",
       "JetBlue Airways                  2861057\n",
       "Mesa Airlines Inc.               1086868\n",
       "Midwest Airline, Inc.            1684937\n",
       "SkyWest Airlines Inc.            2980314\n",
       "Southwest Airlines Co.          15807529\n",
       "Spirit Air Lines                 2571565\n",
       "United Air Lines Inc.            7037661\n",
       "Name: NUMBER_OF_SEATS, dtype: int64"
      ]
     },
     "execution_count": 17,
     "metadata": {},
     "output_type": "execute_result"
    }
   ],
   "source": [
    "%%time\n",
    "\n",
    "groupBy.compute()"
   ]
  },
  {
   "cell_type": "code",
   "execution_count": 18,
   "id": "dd4a5948-f670-4e31-8b80-a6695899b637",
   "metadata": {},
   "outputs": [
    {
     "data": {
      "image/png": "[encoded data removed]",
      "text/plain": [
       "<IPython.core.display.Image object>"
      ]
     },
     "execution_count": 18,
     "metadata": {},
     "output_type": "execute_result"
    }
   ],
   "source": [
    "groupBy.visualize()"
   ]
  },
  {
   "cell_type": "code",
   "execution_count": 19,
   "id": "582a0f3c-4013-4324-a33e-4b66a39e03c9",
   "metadata": {},
   "outputs": [
    {
     "data": {
      "text/plain": [
       "dd.Scalar<series-..., dtype=int64>"
      ]
     },
     "execution_count": 19,
     "metadata": {},
     "output_type": "execute_result"
    }
   ],
   "source": [
    "findMax = df.NUMBER_OF_SEATS.max()\n",
    "findMax"
   ]
  },
  {
   "cell_type": "code",
   "execution_count": 20,
   "id": "490cfba2-7624-4a63-8d2e-413677b68382",
   "metadata": {},
   "outputs": [
    {
     "name": "stdout",
     "output_type": "stream",
     "text": [
      "CPU times: user 16.2 ms, sys: 11.2 ms, total: 27.4 ms\n",
      "Wall time: 53.6 ms\n"
     ]
    },
    {
     "data": {
      "text/plain": [
       "337"
      ]
     },
     "execution_count": 20,
     "metadata": {},
     "output_type": "execute_result"
    }
   ],
   "source": [
    "\n",
    "%%time\n",
    "\n",
    "findMax.compute()\n"
   ]
  },
  {
   "cell_type": "code",
   "execution_count": 107,
   "id": "68d09742-8664-4da5-a4a6-ab08cb348e9d",
   "metadata": {},
   "outputs": [],
   "source": [
    "groupBy = df.groupby(\"CARRIER_NAME\").agg({'NUMBER_OF_SEATS':['sum', 'max'],\n",
    "                         'DEP_DEL15':'sum',\n",
    "                         'PLANE_AGE':'mean'})\n"
   ]
  },
  {
   "cell_type": "code",
   "execution_count": 111,
   "id": "a8115aa1-fd32-4b13-870e-73421cae43e8",
   "metadata": {},
   "outputs": [
    {
     "name": "stdout",
     "output_type": "stream",
     "text": [
      "CPU times: user 16.2 ms, sys: 3.49 ms, total: 19.7 ms\n",
      "Wall time: 122 ms\n"
     ]
    },
    {
     "data": {
      "text/html": [
       "<div>\n",
       "<style scoped>\n",
       "    .dataframe tbody tr th:only-of-type {\n",
       "        vertical-align: middle;\n",
       "    }\n",
       "\n",
       "    .dataframe tbody tr th {\n",
       "        vertical-align: top;\n",
       "    }\n",
       "\n",
       "    .dataframe thead tr th {\n",
       "        text-align: left;\n",
       "    }\n",
       "\n",
       "    .dataframe thead tr:last-of-type th {\n",
       "        text-align: right;\n",
       "    }\n",
       "</style>\n",
       "<table border=\"1\" class=\"dataframe\">\n",
       "  <thead>\n",
       "    <tr>\n",
       "      <th></th>\n",
       "      <th colspan=\"2\" halign=\"left\">NUMBER_OF_SEATS</th>\n",
       "      <th>DEP_DEL15</th>\n",
       "      <th>PLANE_AGE</th>\n",
       "    </tr>\n",
       "    <tr>\n",
       "      <th></th>\n",
       "      <th>sum</th>\n",
       "      <th>max</th>\n",
       "      <th>sum</th>\n",
       "      <th>mean</th>\n",
       "    </tr>\n",
       "    <tr>\n",
       "      <th>CARRIER_NAME</th>\n",
       "      <th></th>\n",
       "      <th></th>\n",
       "      <th></th>\n",
       "      <th></th>\n",
       "    </tr>\n",
       "  </thead>\n",
       "  <tbody>\n",
       "    <tr>\n",
       "      <th>Alaska Airlines Inc.</th>\n",
       "      <td>3005600</td>\n",
       "      <td>185</td>\n",
       "      <td>2579</td>\n",
       "      <td>8.246079</td>\n",
       "    </tr>\n",
       "    <tr>\n",
       "      <th>Allegiant Air</th>\n",
       "      <td>300699</td>\n",
       "      <td>129</td>\n",
       "      <td>501</td>\n",
       "      <td>11.000000</td>\n",
       "    </tr>\n",
       "    <tr>\n",
       "      <th>American Airlines Inc.</th>\n",
       "      <td>11834682</td>\n",
       "      <td>304</td>\n",
       "      <td>11708</td>\n",
       "      <td>11.202736</td>\n",
       "    </tr>\n",
       "    <tr>\n",
       "      <th>American Eagle Airlines Inc.</th>\n",
       "      <td>1003322</td>\n",
       "      <td>129</td>\n",
       "      <td>3497</td>\n",
       "      <td>11.998697</td>\n",
       "    </tr>\n",
       "    <tr>\n",
       "      <th>Atlantic Southeast Airlines</th>\n",
       "      <td>1021995</td>\n",
       "      <td>129</td>\n",
       "      <td>2038</td>\n",
       "      <td>12.373071</td>\n",
       "    </tr>\n",
       "    <tr>\n",
       "      <th>Comair Inc.</th>\n",
       "      <td>1290920</td>\n",
       "      <td>129</td>\n",
       "      <td>2531</td>\n",
       "      <td>9.758400</td>\n",
       "    </tr>\n",
       "    <tr>\n",
       "      <th>Delta Air Lines Inc.</th>\n",
       "      <td>10999721</td>\n",
       "      <td>306</td>\n",
       "      <td>9055</td>\n",
       "      <td>15.513749</td>\n",
       "    </tr>\n",
       "    <tr>\n",
       "      <th>Endeavor Air Inc.</th>\n",
       "      <td>1100036</td>\n",
       "      <td>129</td>\n",
       "      <td>3133</td>\n",
       "      <td>10.515995</td>\n",
       "    </tr>\n",
       "    <tr>\n",
       "      <th>Frontier Airlines Inc.</th>\n",
       "      <td>1638222</td>\n",
       "      <td>230</td>\n",
       "      <td>2120</td>\n",
       "      <td>4.678322</td>\n",
       "    </tr>\n",
       "    <tr>\n",
       "      <th>Hawaiian Airlines Inc.</th>\n",
       "      <td>975477</td>\n",
       "      <td>294</td>\n",
       "      <td>561</td>\n",
       "      <td>14.201456</td>\n",
       "    </tr>\n",
       "    <tr>\n",
       "      <th>JetBlue Airways</th>\n",
       "      <td>2861057</td>\n",
       "      <td>200</td>\n",
       "      <td>5796</td>\n",
       "      <td>11.565571</td>\n",
       "    </tr>\n",
       "    <tr>\n",
       "      <th>Mesa Airlines Inc.</th>\n",
       "      <td>1086868</td>\n",
       "      <td>129</td>\n",
       "      <td>2356</td>\n",
       "      <td>9.603294</td>\n",
       "    </tr>\n",
       "    <tr>\n",
       "      <th>Midwest Airline, Inc.</th>\n",
       "      <td>1684937</td>\n",
       "      <td>76</td>\n",
       "      <td>4450</td>\n",
       "      <td>9.445689</td>\n",
       "    </tr>\n",
       "    <tr>\n",
       "      <th>SkyWest Airlines Inc.</th>\n",
       "      <td>2980314</td>\n",
       "      <td>129</td>\n",
       "      <td>9160</td>\n",
       "      <td>9.892376</td>\n",
       "    </tr>\n",
       "    <tr>\n",
       "      <th>Southwest Airlines Co.</th>\n",
       "      <td>15807529</td>\n",
       "      <td>175</td>\n",
       "      <td>18125</td>\n",
       "      <td>11.698691</td>\n",
       "    </tr>\n",
       "    <tr>\n",
       "      <th>Spirit Air Lines</th>\n",
       "      <td>2571565</td>\n",
       "      <td>228</td>\n",
       "      <td>2015</td>\n",
       "      <td>5.717124</td>\n",
       "    </tr>\n",
       "    <tr>\n",
       "      <th>United Air Lines Inc.</th>\n",
       "      <td>7037661</td>\n",
       "      <td>337</td>\n",
       "      <td>8057</td>\n",
       "      <td>15.003666</td>\n",
       "    </tr>\n",
       "  </tbody>\n",
       "</table>\n",
       "</div>"
      ],
      "text/plain": [
       "                             NUMBER_OF_SEATS      DEP_DEL15  PLANE_AGE\n",
       "                                         sum  max       sum       mean\n",
       "CARRIER_NAME                                                          \n",
       "Alaska Airlines Inc.                 3005600  185      2579   8.246079\n",
       "Allegiant Air                         300699  129       501  11.000000\n",
       "American Airlines Inc.              11834682  304     11708  11.202736\n",
       "American Eagle Airlines Inc.         1003322  129      3497  11.998697\n",
       "Atlantic Southeast Airlines          1021995  129      2038  12.373071\n",
       "Comair Inc.                          1290920  129      2531   9.758400\n",
       "Delta Air Lines Inc.                10999721  306      9055  15.513749\n",
       "Endeavor Air Inc.                    1100036  129      3133  10.515995\n",
       "Frontier Airlines Inc.               1638222  230      2120   4.678322\n",
       "Hawaiian Airlines Inc.                975477  294       561  14.201456\n",
       "JetBlue Airways                      2861057  200      5796  11.565571\n",
       "Mesa Airlines Inc.                   1086868  129      2356   9.603294\n",
       "Midwest Airline, Inc.                1684937   76      4450   9.445689\n",
       "SkyWest Airlines Inc.                2980314  129      9160   9.892376\n",
       "Southwest Airlines Co.              15807529  175     18125  11.698691\n",
       "Spirit Air Lines                     2571565  228      2015   5.717124\n",
       "United Air Lines Inc.                7037661  337      8057  15.003666"
      ]
     },
     "execution_count": 111,
     "metadata": {},
     "output_type": "execute_result"
    }
   ],
   "source": [
    "%%time\n",
    "groupBy.compute()"
   ]
  },
  {
   "cell_type": "code",
   "execution_count": 96,
   "id": "4bca82d1-1761-4161-90a2-13fe97ecd8f3",
   "metadata": {},
   "outputs": [],
   "source": [
    "df2 = df.repartition(npartitions=2)"
   ]
  },
  {
   "cell_type": "code",
   "execution_count": 97,
   "id": "33eae5b2-344c-4358-9013-8a1e8ed09327",
   "metadata": {},
   "outputs": [],
   "source": [
    "df2 = df2.persist()"
   ]
  },
  {
   "cell_type": "code",
   "execution_count": 98,
   "id": "f8304033-9038-4e6a-b154-5489bb5597a0",
   "metadata": {},
   "outputs": [
    {
     "data": {
      "text/plain": [
       "Dask Series Structure:\n",
       "npartitions=1\n",
       "    int64\n",
       "      ...\n",
       "Name: NUMBER_OF_SEATS, dtype: int64\n",
       "Dask Name: series-groupby-sum-agg, 5 tasks"
      ]
     },
     "execution_count": 98,
     "metadata": {},
     "output_type": "execute_result"
    }
   ],
   "source": [
    "\n",
    "groupBy = df2.groupby(\"CARRIER_NAME\").NUMBER_OF_SEATS.sum()\n",
    "groupBy\n"
   ]
  },
  {
   "cell_type": "code",
   "execution_count": 99,
   "id": "938bd137-7e39-4ca1-af80-4e1a9fc96f69",
   "metadata": {},
   "outputs": [
    {
     "name": "stdout",
     "output_type": "stream",
     "text": [
      "CPU times: user 14.7 ms, sys: 996 µs, total: 15.6 ms\n",
      "Wall time: 81 ms\n"
     ]
    },
    {
     "data": {
      "text/plain": [
       "CARRIER_NAME\n",
       "Alaska Airlines Inc.             3005600\n",
       "Allegiant Air                     300699\n",
       "American Airlines Inc.          11834682\n",
       "American Eagle Airlines Inc.     1003322\n",
       "Atlantic Southeast Airlines      1021995\n",
       "Comair Inc.                      1290920\n",
       "Delta Air Lines Inc.            10999721\n",
       "Endeavor Air Inc.                1100036\n",
       "Frontier Airlines Inc.           1638222\n",
       "Hawaiian Airlines Inc.            975477\n",
       "JetBlue Airways                  2861057\n",
       "Mesa Airlines Inc.               1086868\n",
       "Midwest Airline, Inc.            1684937\n",
       "SkyWest Airlines Inc.            2980314\n",
       "Southwest Airlines Co.          15807529\n",
       "Spirit Air Lines                 2571565\n",
       "United Air Lines Inc.            7037661\n",
       "Name: NUMBER_OF_SEATS, dtype: int64"
      ]
     },
     "execution_count": 99,
     "metadata": {},
     "output_type": "execute_result"
    }
   ],
   "source": [
    "%%time\n",
    "\n",
    "groupBy.compute()"
   ]
  },
  {
   "cell_type": "code",
   "execution_count": 100,
   "id": "5db8cdd3-d68f-4c4f-af61-9b6867f73aac",
   "metadata": {},
   "outputs": [
    {
     "data": {
      "image/png": "[encoded data removed]",
      "text/plain": [
       "<IPython.core.display.Image object>"
      ]
     },
     "execution_count": 100,
     "metadata": {},
     "output_type": "execute_result"
    }
   ],
   "source": [
    "groupBy.visualize()"
   ]
  },
  {
   "cell_type": "code",
   "execution_count": 101,
   "id": "955e0b63-2652-45a8-bbb9-f70f3fe2bc1e",
   "metadata": {},
   "outputs": [],
   "source": [
    "groupBy = df.groupby(\"CARRIER_NAME\").agg({'NUMBER_OF_SEATS':['sum', 'max'],\n",
    "                         'DEP_DEL15':'sum',\n",
    "                         'PLANE_AGE':'mean'})"
   ]
  },
  {
   "cell_type": "code",
   "execution_count": 106,
   "id": "7f23b9a9-a7bb-493a-988d-bf64997f0db4",
   "metadata": {},
   "outputs": [
    {
     "name": "stdout",
     "output_type": "stream",
     "text": [
      "CPU times: user 16.4 ms, sys: 5.45 ms, total: 21.8 ms\n",
      "Wall time: 818 ms\n"
     ]
    },
    {
     "data": {
      "text/html": [
       "<div>\n",
       "<style scoped>\n",
       "    .dataframe tbody tr th:only-of-type {\n",
       "        vertical-align: middle;\n",
       "    }\n",
       "\n",
       "    .dataframe tbody tr th {\n",
       "        vertical-align: top;\n",
       "    }\n",
       "\n",
       "    .dataframe thead tr th {\n",
       "        text-align: left;\n",
       "    }\n",
       "\n",
       "    .dataframe thead tr:last-of-type th {\n",
       "        text-align: right;\n",
       "    }\n",
       "</style>\n",
       "<table border=\"1\" class=\"dataframe\">\n",
       "  <thead>\n",
       "    <tr>\n",
       "      <th></th>\n",
       "      <th colspan=\"2\" halign=\"left\">NUMBER_OF_SEATS</th>\n",
       "      <th>DEP_DEL15</th>\n",
       "      <th>PLANE_AGE</th>\n",
       "    </tr>\n",
       "    <tr>\n",
       "      <th></th>\n",
       "      <th>sum</th>\n",
       "      <th>max</th>\n",
       "      <th>sum</th>\n",
       "      <th>mean</th>\n",
       "    </tr>\n",
       "    <tr>\n",
       "      <th>CARRIER_NAME</th>\n",
       "      <th></th>\n",
       "      <th></th>\n",
       "      <th></th>\n",
       "      <th></th>\n",
       "    </tr>\n",
       "  </thead>\n",
       "  <tbody>\n",
       "    <tr>\n",
       "      <th>Alaska Airlines Inc.</th>\n",
       "      <td>3005600</td>\n",
       "      <td>185</td>\n",
       "      <td>2579</td>\n",
       "      <td>8.246079</td>\n",
       "    </tr>\n",
       "    <tr>\n",
       "      <th>Allegiant Air</th>\n",
       "      <td>300699</td>\n",
       "      <td>129</td>\n",
       "      <td>501</td>\n",
       "      <td>11.000000</td>\n",
       "    </tr>\n",
       "    <tr>\n",
       "      <th>American Airlines Inc.</th>\n",
       "      <td>11834682</td>\n",
       "      <td>304</td>\n",
       "      <td>11708</td>\n",
       "      <td>11.202736</td>\n",
       "    </tr>\n",
       "    <tr>\n",
       "      <th>American Eagle Airlines Inc.</th>\n",
       "      <td>1003322</td>\n",
       "      <td>129</td>\n",
       "      <td>3497</td>\n",
       "      <td>11.998697</td>\n",
       "    </tr>\n",
       "    <tr>\n",
       "      <th>Atlantic Southeast Airlines</th>\n",
       "      <td>1021995</td>\n",
       "      <td>129</td>\n",
       "      <td>2038</td>\n",
       "      <td>12.373071</td>\n",
       "    </tr>\n",
       "    <tr>\n",
       "      <th>Comair Inc.</th>\n",
       "      <td>1290920</td>\n",
       "      <td>129</td>\n",
       "      <td>2531</td>\n",
       "      <td>9.758400</td>\n",
       "    </tr>\n",
       "    <tr>\n",
       "      <th>Delta Air Lines Inc.</th>\n",
       "      <td>10999721</td>\n",
       "      <td>306</td>\n",
       "      <td>9055</td>\n",
       "      <td>15.513749</td>\n",
       "    </tr>\n",
       "    <tr>\n",
       "      <th>Endeavor Air Inc.</th>\n",
       "      <td>1100036</td>\n",
       "      <td>129</td>\n",
       "      <td>3133</td>\n",
       "      <td>10.515995</td>\n",
       "    </tr>\n",
       "    <tr>\n",
       "      <th>Frontier Airlines Inc.</th>\n",
       "      <td>1638222</td>\n",
       "      <td>230</td>\n",
       "      <td>2120</td>\n",
       "      <td>4.678322</td>\n",
       "    </tr>\n",
       "    <tr>\n",
       "      <th>Hawaiian Airlines Inc.</th>\n",
       "      <td>975477</td>\n",
       "      <td>294</td>\n",
       "      <td>561</td>\n",
       "      <td>14.201456</td>\n",
       "    </tr>\n",
       "    <tr>\n",
       "      <th>JetBlue Airways</th>\n",
       "      <td>2861057</td>\n",
       "      <td>200</td>\n",
       "      <td>5796</td>\n",
       "      <td>11.565571</td>\n",
       "    </tr>\n",
       "    <tr>\n",
       "      <th>Mesa Airlines Inc.</th>\n",
       "      <td>1086868</td>\n",
       "      <td>129</td>\n",
       "      <td>2356</td>\n",
       "      <td>9.603294</td>\n",
       "    </tr>\n",
       "    <tr>\n",
       "      <th>Midwest Airline, Inc.</th>\n",
       "      <td>1684937</td>\n",
       "      <td>76</td>\n",
       "      <td>4450</td>\n",
       "      <td>9.445689</td>\n",
       "    </tr>\n",
       "    <tr>\n",
       "      <th>SkyWest Airlines Inc.</th>\n",
       "      <td>2980314</td>\n",
       "      <td>129</td>\n",
       "      <td>9160</td>\n",
       "      <td>9.892376</td>\n",
       "    </tr>\n",
       "    <tr>\n",
       "      <th>Southwest Airlines Co.</th>\n",
       "      <td>15807529</td>\n",
       "      <td>175</td>\n",
       "      <td>18125</td>\n",
       "      <td>11.698691</td>\n",
       "    </tr>\n",
       "    <tr>\n",
       "      <th>Spirit Air Lines</th>\n",
       "      <td>2571565</td>\n",
       "      <td>228</td>\n",
       "      <td>2015</td>\n",
       "      <td>5.717124</td>\n",
       "    </tr>\n",
       "    <tr>\n",
       "      <th>United Air Lines Inc.</th>\n",
       "      <td>7037661</td>\n",
       "      <td>337</td>\n",
       "      <td>8057</td>\n",
       "      <td>15.003666</td>\n",
       "    </tr>\n",
       "  </tbody>\n",
       "</table>\n",
       "</div>"
      ],
      "text/plain": [
       "                             NUMBER_OF_SEATS      DEP_DEL15  PLANE_AGE\n",
       "                                         sum  max       sum       mean\n",
       "CARRIER_NAME                                                          \n",
       "Alaska Airlines Inc.                 3005600  185      2579   8.246079\n",
       "Allegiant Air                         300699  129       501  11.000000\n",
       "American Airlines Inc.              11834682  304     11708  11.202736\n",
       "American Eagle Airlines Inc.         1003322  129      3497  11.998697\n",
       "Atlantic Southeast Airlines          1021995  129      2038  12.373071\n",
       "Comair Inc.                          1290920  129      2531   9.758400\n",
       "Delta Air Lines Inc.                10999721  306      9055  15.513749\n",
       "Endeavor Air Inc.                    1100036  129      3133  10.515995\n",
       "Frontier Airlines Inc.               1638222  230      2120   4.678322\n",
       "Hawaiian Airlines Inc.                975477  294       561  14.201456\n",
       "JetBlue Airways                      2861057  200      5796  11.565571\n",
       "Mesa Airlines Inc.                   1086868  129      2356   9.603294\n",
       "Midwest Airline, Inc.                1684937   76      4450   9.445689\n",
       "SkyWest Airlines Inc.                2980314  129      9160   9.892376\n",
       "Southwest Airlines Co.              15807529  175     18125  11.698691\n",
       "Spirit Air Lines                     2571565  228      2015   5.717124\n",
       "United Air Lines Inc.                7037661  337      8057  15.003666"
      ]
     },
     "execution_count": 106,
     "metadata": {},
     "output_type": "execute_result"
    }
   ],
   "source": [
    "%%time\n",
    "groupBy.compute()"
   ]
  },
  {
   "cell_type": "code",
   "execution_count": 41,
   "id": "3ec3327e-27da-4ba4-a09e-f4d49c24f1d2",
   "metadata": {},
   "outputs": [],
   "source": [
    "groupBy = df.groupby(\"CARRIER_NAME\").agg({'NUMBER_OF_SEATS':'sum',\n",
    "                         'DEP_DEL15':'sum',\n",
    "                         'PLANE_AGE':'mean'})"
   ]
  },
  {
   "cell_type": "code",
   "execution_count": 82,
   "id": "0b4ee475-10bb-4819-a4ea-aec8a789672a",
   "metadata": {},
   "outputs": [
    {
     "name": "stdout",
     "output_type": "stream",
     "text": [
      "CPU times: user 107 ms, sys: 10.5 ms, total: 118 ms\n",
      "Wall time: 338 ms\n"
     ]
    }
   ],
   "source": [
    "\n",
    "\n",
    "\n",
    "X = groupBy.NUMBER_OF_SEATS.compute().values.reshape(-1, 1)\n",
    "Y = groupBy.DEP_DEL15.values.compute().reshape(-1, 1)\n"
   ]
  },
  {
   "cell_type": "code",
   "execution_count": 88,
   "id": "923f5be6-1a97-4539-9b2d-c29bc2261991",
   "metadata": {},
   "outputs": [
    {
     "name": "stdout",
     "output_type": "stream",
     "text": [
      "CPU times: user 104 ms, sys: 8.89 ms, total: 113 ms\n",
      "Wall time: 192 ms\n"
     ]
    }
   ],
   "source": [
    "%%time\n",
    "\n",
    "from dask_ml.linear_model import LinearRegression\n",
    "\n",
    "regr = LinearRegression()\n",
    "# Train the model using the training sets\n",
    "regr.fit(X, Y)\n",
    "\n",
    "# Make predictions using the testing set\n",
    "diabetes_y_pred = regr.predict(X)"
   ]
  },
  {
   "cell_type": "code",
   "execution_count": 89,
   "id": "07127869-ba79-4c77-8c2a-5801e6394dda",
   "metadata": {},
   "outputs": [
    {
     "data": {
      "image/png": "[encoded data removed]",
      "text/plain": [
       "<Figure size 432x288 with 1 Axes>"
      ]
     },
     "metadata": {},
     "output_type": "display_data"
    }
   ],
   "source": [
    "\n",
    "import matplotlib.pyplot as plt\n",
    "plt.scatter(X, Y,  color='black')\n",
    "plt.plot(X, diabetes_y_pred, color='blue', linewidth=3)\n",
    "\n",
    "plt.xticks(())\n",
    "plt.yticks(())\n",
    "\n",
    "plt.show()"
   ]
  },
  {
   "cell_type": "code",
   "execution_count": 155,
   "id": "0adec1a3-c3e9-424f-bd9e-edfd6d2baa1d",
   "metadata": {},
   "outputs": [],
   "source": [
    "X=df[['AIRPORT_FLIGHTS_MONTH', 'NUMBER_OF_SEATS']].compute()  # Features\n",
    "y=df['DEP_DEL15'].compute()\n"
   ]
  },
  {
   "cell_type": "code",
   "execution_count": 158,
   "id": "0dad1f6c-8cc4-43b8-8831-2ea504f8a86b",
   "metadata": {},
   "outputs": [],
   "source": [
    "from sklearn.model_selection import train_test_split\n",
    "X_train, X_test, y_train, y_test = train_test_split(X, y, test_size=0.3) # 70% training and 30% test"
   ]
  },
  {
   "cell_type": "code",
   "execution_count": 159,
   "id": "9cd1bc37-ac3a-47cb-af3f-858bd303a133",
   "metadata": {},
   "outputs": [],
   "source": [
    "from sklearn.ensemble import RandomForestClassifier\n",
    "\n",
    "#Create a Gaussian Classifier\n",
    "clf=RandomForestClassifier(n_estimators=100)\n",
    "\n",
    "\n"
   ]
  },
  {
   "cell_type": "code",
   "execution_count": 160,
   "id": "18fa4efe-daaf-4c03-8118-50ef0fd36f5d",
   "metadata": {},
   "outputs": [],
   "source": [
    "with joblib.parallel_backend(\"dask\"):\n",
    "    #Train the model using the training sets y_pred=clf.predict(X_test)\n",
    "    clf.fit(X_train,y_train)\n",
    "    y_pred=clf.predict(X_test)"
   ]
  },
  {
   "cell_type": "code",
   "execution_count": 161,
   "id": "db10b50d-9480-4c57-8b98-8d737c29fa75",
   "metadata": {},
   "outputs": [
    {
     "name": "stdout",
     "output_type": "stream",
     "text": [
      "Accuracy: 0.8254556319091724\n"
     ]
    }
   ],
   "source": [
    "from sklearn import metrics\n",
    "# Model Accuracy, how often is the classifier correct?\n",
    "print(\"Accuracy:\",metrics.accuracy_score(y_test, y_pred))"
   ]
  },
  {
   "cell_type": "code",
   "execution_count": null,
   "id": "0e208fd0-8426-4477-b421-a1b58e233848",
   "metadata": {},
   "outputs": [],
   "source": []
  }
 ],
 "metadata": {
  "kernelspec": {
   "display_name": "Python 3 (ipykernel)",
   "language": "python",
   "name": "python3"
  },
  "language_info": {
   "codemirror_mode": {
    "name": "ipython",
    "version": 3
   },
   "file_extension": ".py",
   "mimetype": "text/x-python",
   "name": "python",
   "nbconvert_exporter": "python",
   "pygments_lexer": "ipython3",
   "version": "3.8.10"
  }
 },
 "nbformat": 4,
 "nbformat_minor": 5
}
