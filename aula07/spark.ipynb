{
 "cells": [
  {
   "cell_type": "code",
   "execution_count": 1,
   "id": "67d86692",
   "metadata": {},
   "outputs": [],
   "source": [
    "import random  \n",
    "import string  \n",
    "def specific_string(length):  \n",
    "    sample_string = 'pqrstuvwxy' # define the specific string  \n",
    "    # define the condition for random string  \n",
    "    result = ''.join((random.choice(sample_string)) for x in range(length))  \n",
    "    return result\n",
    "  \n",
    "valor = specific_string(80000) "
   ]
  },
  {
   "cell_type": "code",
   "execution_count": 2,
   "id": "2588f980",
   "metadata": {},
   "outputs": [],
   "source": [
    "def verifica(dict, value):\n",
    "    if value in dict:\n",
    "        dict[value] = dict[value] + 1\n",
    "    else:\n",
    "        dict[value] = 1"
   ]
  },
  {
   "cell_type": "code",
   "execution_count": 3,
   "id": "9ba283e7",
   "metadata": {},
   "outputs": [
    {
     "name": "stdout",
     "output_type": "stream",
     "text": [
      "{'s': 7988, 'u': 8184, 'q': 7979, 'y': 8057, 't': 7905, 'x': 7944, 'v': 7988, 'r': 8002, 'p': 7935, 'w': 8018}\n",
      "0.023241758346557617\n"
     ]
    }
   ],
   "source": [
    "import time\n",
    "\n",
    "start = time.time()\n",
    "dict = {}\n",
    "\n",
    "for l in valor:\n",
    "    verifica(dict, l)\n",
    "\n",
    "end = time.time()\n",
    "print(dict)\n",
    "print(end - start)"
   ]
  },
  {
   "cell_type": "code",
   "execution_count": 4,
   "id": "e21cc978",
   "metadata": {},
   "outputs": [
    {
     "name": "stderr",
     "output_type": "stream",
     "text": [
      "WARNING: An illegal reflective access operation has occurred\n",
      "WARNING: Illegal reflective access by org.apache.spark.unsafe.Platform (file:/usr/local/spark-3.1.2-bin-hadoop3.2/jars/spark-unsafe_2.12-3.1.2.jar) to constructor java.nio.DirectByteBuffer(long,int)\n",
      "WARNING: Please consider reporting this to the maintainers of org.apache.spark.unsafe.Platform\n",
      "WARNING: Use --illegal-access=warn to enable warnings of further illegal reflective access operations\n",
      "WARNING: All illegal access operations will be denied in a future release\n",
      "21/08/25 20:22:07 WARN NativeCodeLoader: Unable to load native-hadoop library for your platform... using builtin-java classes where applicable\n",
      "Using Spark's default log4j profile: org/apache/spark/log4j-defaults.properties\n",
      "Setting default log level to \"WARN\".\n",
      "To adjust logging level use sc.setLogLevel(newLevel). For SparkR, use setLogLevel(newLevel).\n"
     ]
    },
    {
     "name": "stdout",
     "output_type": "stream",
     "text": [
      "teste\n"
     ]
    },
    {
     "name": "stderr",
     "output_type": "stream",
     "text": [
      "                                                                                \r"
     ]
    },
    {
     "name": "stdout",
     "output_type": "stream",
     "text": [
      "[('s', 7988), ('y', 8057), ('r', 8002), ('q', 7979), ('t', 7905), ('p', 7935), ('x', 7944), ('w', 8018), ('u', 8184), ('v', 7988)]\n",
      "2.7527706623077393\n"
     ]
    }
   ],
   "source": [
    "from pyspark import SparkContext\n",
    "import boto3\n",
    "sc = SparkContext(\"local\", \"first app\")\n",
    "\n",
    "text = sc.parallelize(valor,8)\n",
    "\n",
    "counts = text.map(lambda word: (word, 1)) \\\n",
    "             .reduceByKey(lambda a, b: a + b)\n",
    "\n",
    "print('teste')\n",
    "start = time.time()\n",
    "output = counts.collect()\n",
    "end = time.time()\n",
    "\n",
    "print(output)\n",
    "print(end - start)\n",
    "\n",
    "sc.stop()\n"
   ]
  },
  {
   "cell_type": "code",
   "execution_count": null,
   "id": "652c4474",
   "metadata": {},
   "outputs": [],
   "source": []
  }
 ],
 "metadata": {
  "kernelspec": {
   "display_name": "Python 3 (ipykernel)",
   "language": "python",
   "name": "python3"
  },
  "language_info": {
   "codemirror_mode": {
    "name": "ipython",
    "version": 3
   },
   "file_extension": ".py",
   "mimetype": "text/x-python",
   "name": "python",
   "nbconvert_exporter": "python",
   "pygments_lexer": "ipython3",
   "version": "3.9.6"
  }
 },
 "nbformat": 4,
 "nbformat_minor": 5
}
